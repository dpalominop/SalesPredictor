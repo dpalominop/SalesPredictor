{
 "cells": [
  {
   "cell_type": "markdown",
   "id": "statistical-patio",
   "metadata": {},
   "source": [
    "# Exploratory Data Analysis"
   ]
  },
  {
   "cell_type": "code",
   "execution_count": 1,
   "id": "similar-journalist",
   "metadata": {},
   "outputs": [],
   "source": [
    "import matplotlib.pyplot as plt\n",
    "import seaborn as sns\n",
    "import pandas as pd\n",
    "import numpy as np\n",
    "from sklearn.model_selection import train_test_split\n",
    "\n",
    "%matplotlib inline"
   ]
  },
  {
   "cell_type": "markdown",
   "id": "disabled-sending",
   "metadata": {},
   "source": [
    "A description of the dataset lists the attributes and their descriptions:\n",
    "\n",
    "### Dataset: Call Facts\n",
    "\n",
    "##### Last Telephone Contact\n",
    "* dialerLeadId: id of original Lead (numeric)\n",
    "* dimAgentId: Id of who contacted the client (numeric)\n",
    "* callDate: begining of contact (categorical: \"1/4/2018  5:29:53 PM\")\n",
    "* callEndDate: ending of contact (categorical: \"1/4/2018  5:30:11 PM\")\n",
    "* callType: type of call (categorical: \"Inbound\", \"Outbound\", \"Manual Dial\", \"Outbound Agent Callback\", \"Voicemail\")\n",
    "* callTypeId: id of callType (numeric)\n",
    "* dispoGroup: result of actual call (categorical: \"Agent Call Back\", \"Do Not Call\", \"No Sale\", \"Non Workable\", \"Sale\", \"Still Workable\", \"System disposition\", \"Transfer Call\")\n",
    "* dispoDescription: description of dispoGroup (categorical: \"Answering Machine\", \"Busye\", ..., \"Sale\")\n",
    "* callAttemptNumber: number of attempts (numeric)\n",
    "* talkTimeSeconds: time of call in seconds (numeric)\n",
    "* handleTimeSeconds: handled time in seconds (numeric)\n",
    "* outboundCalls: number of outbounding calls (numeric)\n",
    "* outboundCallbacks: number of outbounding callbacks (numeric)\n",
    "* inboundCalls: number of inbounding calls (numeric)\n",
    "* manualCalls: number of manual calls (numeric)\n",
    "* inboundCallsHandled: number of inbounding calls (numeric)\n",
    "* callSkill: unknown data (numeric)\n",
    "\n",
    "##### Other Attributes\n",
    "* Other attributes were not included in this analysis because they were meaningless or repetitive data.\n",
    "\n",
    "\n",
    "### Dataset: Lead Facts\n",
    "\n",
    "##### Client Attributes\n",
    "* ageOnLeadGroup : age (categorical: \"Under 20\", \"20 - 30\", \"31 - 40\", \"41 - 50\", \"51 - 60\", \"61 - 70\", \"71 - 80\" , \"81 - 90\", \"Over 90\", \"Undefined\")\n",
    "* gender (categorical: \"F\", \"M\", \"U\")\n",
    "\n",
    "##### Lead Attributes\n",
    "* dialerLeadId: id of Lead (categorical: \"1/1/2018  12:47:18 AM\")\n",
    "* sourceSystem: id of system which provided the lead (categorical: \"CUY-AMS\", \"PolicyFile\", \"tztLeads\")\n",
    "* leadDate: date of creation of lead (numeric)\n",
    "* afid: unknown data (numeric)\n",
    "* campaign id: id of campaign (numeric)\n",
    "* originalContactType: type of contact (categorical: \"IB\", \"OB\", \"Undefined\")\n",
    "* leadTypeId: id of type of lead (numeric)\n",
    "* leadZip: zip of lead (numeric)\n",
    "* leadCost: cost of lead (numeric)\n",
    "* callCenterLeadCreatedReason: lead created reason (categorical: \"Clone:OnCall\", \"Draft\", ..., \"Import\")\n",
    "* callCenterLeadCloneSourceId: lead clone source id (numeric)\n",
    "* leadsReceived: number of leads received associated to client (numeric)\n",
    "* leadsAccepted: number of accepted leads associated to client (numeric)\n",
    "* leadsRejected: number of rejected leads associated to client (numeric)\n",
    "* callCenterLeadsTotal: number of total leads associated to client (numeric)\n",
    "* callCenterLeadEverContacted: number of total leads ever contacted associated to client (numeric)\n",
    "* callCenterLeadEverSold: number of total leads ever sold associated to client (numeric)\n",
    "* currentSkill: unknown data (numeric)\n",
    "* originalSkill: unknown data (numeric)\n",
    "* expirationInDays: expiration of lead (numeric)\n",
    "* maxAttempts: maximum attempts to contact (numeric)\n",
    "* dailyMaxAttempts: maximum attempts by day (numeric)\n",
    "* leadType: type of lead (categorical: \"Primary\", \"Recycle\", \"Shared\")\n",
    "* deliveryMethod: type of communication (categorical: \"Data\", \"Voice\")\n",
    "* everCallback: unknown data (numeric)\n",
    "\n",
    "##### Other Attributes\n",
    "* Other attributes were not included in this analysis because they were meaningless or repetitive data."
   ]
  },
  {
   "cell_type": "markdown",
   "id": "understanding-stomach",
   "metadata": {},
   "source": [
    "## 1. Import Data"
   ]
  },
  {
   "cell_type": "markdown",
   "id": "outdoor-investor",
   "metadata": {},
   "source": [
    "### 1.1 Call Facts dataset:"
   ]
  },
  {
   "cell_type": "markdown",
   "id": "provincial-panel",
   "metadata": {},
   "source": [
    "Import the dataset from excel file"
   ]
  },
  {
   "cell_type": "code",
   "execution_count": 2,
   "id": "severe-screening",
   "metadata": {},
   "outputs": [
    {
     "data": {
      "text/html": [
       "<div>\n",
       "<style scoped>\n",
       "    .dataframe tbody tr th:only-of-type {\n",
       "        vertical-align: middle;\n",
       "    }\n",
       "\n",
       "    .dataframe tbody tr th {\n",
       "        vertical-align: top;\n",
       "    }\n",
       "\n",
       "    .dataframe thead th {\n",
       "        text-align: right;\n",
       "    }\n",
       "</style>\n",
       "<table border=\"1\" class=\"dataframe\">\n",
       "  <thead>\n",
       "    <tr style=\"text-align: right;\">\n",
       "      <th></th>\n",
       "      <th>dialerLeadId</th>\n",
       "      <th>dimAgentId</th>\n",
       "      <th>callDate</th>\n",
       "      <th>callType</th>\n",
       "      <th>callTypeId</th>\n",
       "      <th>dispoGroup</th>\n",
       "      <th>dispoDescription</th>\n",
       "      <th>callAttemptNumber</th>\n",
       "      <th>talkTimeSeconds</th>\n",
       "      <th>handleTimeSeconds</th>\n",
       "      <th>totalCalls</th>\n",
       "      <th>outboundCalls</th>\n",
       "      <th>outboundCallbacks</th>\n",
       "      <th>inboundCalls</th>\n",
       "      <th>manualCalls</th>\n",
       "      <th>inboundCallsHandled</th>\n",
       "      <th>callEndDate</th>\n",
       "      <th>callSkill</th>\n",
       "    </tr>\n",
       "  </thead>\n",
       "  <tbody>\n",
       "    <tr>\n",
       "      <th>0</th>\n",
       "      <td>2311300</td>\n",
       "      <td>770</td>\n",
       "      <td>2018-01-04 17:29:53.000</td>\n",
       "      <td>Outbound</td>\n",
       "      <td>1</td>\n",
       "      <td>Still Workable</td>\n",
       "      <td>Answering Machine</td>\n",
       "      <td>3</td>\n",
       "      <td>12.0</td>\n",
       "      <td>18</td>\n",
       "      <td>1</td>\n",
       "      <td>1</td>\n",
       "      <td>0</td>\n",
       "      <td>0</td>\n",
       "      <td>0</td>\n",
       "      <td>0</td>\n",
       "      <td>2018-01-04 17:30:11.000</td>\n",
       "      <td>22.0</td>\n",
       "    </tr>\n",
       "    <tr>\n",
       "      <th>1</th>\n",
       "      <td>2311300</td>\n",
       "      <td>743</td>\n",
       "      <td>2018-01-02 18:11:25.180</td>\n",
       "      <td>Outbound</td>\n",
       "      <td>1</td>\n",
       "      <td>Still Workable</td>\n",
       "      <td>No Answer</td>\n",
       "      <td>2</td>\n",
       "      <td>NaN</td>\n",
       "      <td>25</td>\n",
       "      <td>1</td>\n",
       "      <td>1</td>\n",
       "      <td>0</td>\n",
       "      <td>0</td>\n",
       "      <td>0</td>\n",
       "      <td>0</td>\n",
       "      <td>2018-01-02 18:11:50.977</td>\n",
       "      <td>2.0</td>\n",
       "    </tr>\n",
       "    <tr>\n",
       "      <th>2</th>\n",
       "      <td>2311300</td>\n",
       "      <td>186</td>\n",
       "      <td>2018-01-02 11:47:30.707</td>\n",
       "      <td>Outbound</td>\n",
       "      <td>1</td>\n",
       "      <td>Still Workable</td>\n",
       "      <td>No Answer</td>\n",
       "      <td>1</td>\n",
       "      <td>35.0</td>\n",
       "      <td>41</td>\n",
       "      <td>1</td>\n",
       "      <td>1</td>\n",
       "      <td>0</td>\n",
       "      <td>0</td>\n",
       "      <td>0</td>\n",
       "      <td>0</td>\n",
       "      <td>2018-01-02 11:48:11.427</td>\n",
       "      <td>2.0</td>\n",
       "    </tr>\n",
       "    <tr>\n",
       "      <th>3</th>\n",
       "      <td>2311300</td>\n",
       "      <td>735</td>\n",
       "      <td>2018-01-15 13:56:32.673</td>\n",
       "      <td>Outbound</td>\n",
       "      <td>1</td>\n",
       "      <td>Still Workable</td>\n",
       "      <td>Answering Machine</td>\n",
       "      <td>5</td>\n",
       "      <td>21.0</td>\n",
       "      <td>28</td>\n",
       "      <td>1</td>\n",
       "      <td>1</td>\n",
       "      <td>0</td>\n",
       "      <td>0</td>\n",
       "      <td>0</td>\n",
       "      <td>0</td>\n",
       "      <td>2018-01-15 13:57:00.703</td>\n",
       "      <td>22.0</td>\n",
       "    </tr>\n",
       "    <tr>\n",
       "      <th>4</th>\n",
       "      <td>2311300</td>\n",
       "      <td>737</td>\n",
       "      <td>2018-01-15 12:10:38.683</td>\n",
       "      <td>Outbound</td>\n",
       "      <td>1</td>\n",
       "      <td>Still Workable</td>\n",
       "      <td>No Answer</td>\n",
       "      <td>4</td>\n",
       "      <td>9.0</td>\n",
       "      <td>15</td>\n",
       "      <td>1</td>\n",
       "      <td>1</td>\n",
       "      <td>0</td>\n",
       "      <td>0</td>\n",
       "      <td>0</td>\n",
       "      <td>0</td>\n",
       "      <td>2018-01-15 12:10:53.297</td>\n",
       "      <td>22.0</td>\n",
       "    </tr>\n",
       "  </tbody>\n",
       "</table>\n",
       "</div>"
      ],
      "text/plain": [
       "   dialerLeadId  dimAgentId                callDate  callType  callTypeId  \\\n",
       "0       2311300         770 2018-01-04 17:29:53.000  Outbound           1   \n",
       "1       2311300         743 2018-01-02 18:11:25.180  Outbound           1   \n",
       "2       2311300         186 2018-01-02 11:47:30.707  Outbound           1   \n",
       "3       2311300         735 2018-01-15 13:56:32.673  Outbound           1   \n",
       "4       2311300         737 2018-01-15 12:10:38.683  Outbound           1   \n",
       "\n",
       "       dispoGroup   dispoDescription  callAttemptNumber  talkTimeSeconds  \\\n",
       "0  Still Workable  Answering Machine                  3             12.0   \n",
       "1  Still Workable          No Answer                  2              NaN   \n",
       "2  Still Workable          No Answer                  1             35.0   \n",
       "3  Still Workable  Answering Machine                  5             21.0   \n",
       "4  Still Workable          No Answer                  4              9.0   \n",
       "\n",
       "   handleTimeSeconds  totalCalls  outboundCalls  outboundCallbacks  \\\n",
       "0                 18           1              1                  0   \n",
       "1                 25           1              1                  0   \n",
       "2                 41           1              1                  0   \n",
       "3                 28           1              1                  0   \n",
       "4                 15           1              1                  0   \n",
       "\n",
       "   inboundCalls  manualCalls  inboundCallsHandled             callEndDate  \\\n",
       "0             0            0                    0 2018-01-04 17:30:11.000   \n",
       "1             0            0                    0 2018-01-02 18:11:50.977   \n",
       "2             0            0                    0 2018-01-02 11:48:11.427   \n",
       "3             0            0                    0 2018-01-15 13:57:00.703   \n",
       "4             0            0                    0 2018-01-15 12:10:53.297   \n",
       "\n",
       "   callSkill  \n",
       "0       22.0  \n",
       "1        2.0  \n",
       "2        2.0  \n",
       "3       22.0  \n",
       "4       22.0  "
      ]
     },
     "execution_count": 2,
     "metadata": {},
     "output_type": "execute_result"
    }
   ],
   "source": [
    "xls = pd.ExcelFile('../data/data-assessment.xlsx')\n",
    "calls_df = pd.read_excel(xls, 'Call Facts')\n",
    "\n",
    "calls_df.head()"
   ]
  },
  {
   "cell_type": "markdown",
   "id": "coastal-default",
   "metadata": {},
   "source": [
    "Remove meaningless columns"
   ]
  },
  {
   "cell_type": "code",
   "execution_count": 3,
   "id": "accessible-solution",
   "metadata": {},
   "outputs": [],
   "source": [
    "# Change complete date to day of week and month\n",
    "calls_df['callDay'] = calls_df['callDate'].dt.day_name()\n",
    "calls_df['callMonth'] = calls_df['callDate'].dt.month_name()\n",
    "\n",
    "# Remove meaningless columns\n",
    "calls_df.drop(['callType', 'totalCalls', 'callDate', 'callEndDate'], axis=1, inplace=True)"
   ]
  },
  {
   "cell_type": "markdown",
   "id": "pregnant-spine",
   "metadata": {},
   "source": [
    "So we should expect 12 numeric and 4 categorical attributes."
   ]
  },
  {
   "cell_type": "code",
   "execution_count": 4,
   "id": "given-couple",
   "metadata": {},
   "outputs": [
    {
     "data": {
      "text/plain": [
       "int64      10\n",
       "float64     2\n",
       "object      4\n",
       "dtype: int64"
      ]
     },
     "execution_count": 4,
     "metadata": {},
     "output_type": "execute_result"
    }
   ],
   "source": [
    "calls_df.dtypes.groupby(calls_df.dtypes).size()"
   ]
  },
  {
   "cell_type": "code",
   "execution_count": 5,
   "id": "direct-vision",
   "metadata": {},
   "outputs": [
    {
     "name": "stdout",
     "output_type": "stream",
     "text": [
      "Numeric:\n",
      " ['dialerLeadId' 'dimAgentId' 'callTypeId' 'callAttemptNumber'\n",
      " 'talkTimeSeconds' 'handleTimeSeconds' 'outboundCalls' 'outboundCallbacks'\n",
      " 'inboundCalls' 'manualCalls' 'inboundCallsHandled' 'callSkill']\n",
      "Categorical:\n",
      " ['dispoGroup' 'dispoDescription' 'callDay' 'callMonth']\n"
     ]
    }
   ],
   "source": [
    "dtypes = pd.DataFrame(calls_df.dtypes.rename('type')).reset_index().astype('str')\n",
    "\n",
    "call_numeric = dtypes[(dtypes.type.isin(['int64', 'float64']))]['index'].values\n",
    "call_categorical = dtypes[~(dtypes['index'].isin(call_numeric)) & (dtypes['index'] != 'predict')]['index'].values\n",
    "\n",
    "print('Numeric:\\n', call_numeric)\n",
    "print('Categorical:\\n', call_categorical)"
   ]
  },
  {
   "cell_type": "markdown",
   "id": "ready-cattle",
   "metadata": {},
   "source": [
    " "
   ]
  },
  {
   "cell_type": "markdown",
   "id": "dirty-track",
   "metadata": {},
   "source": [
    "### 1.2 Lead Facts dataset:"
   ]
  },
  {
   "cell_type": "markdown",
   "id": "lesser-queensland",
   "metadata": {},
   "source": [
    "Import the dataset from excel file"
   ]
  },
  {
   "cell_type": "code",
   "execution_count": 6,
   "id": "steady-plastic",
   "metadata": {},
   "outputs": [
    {
     "data": {
      "text/html": [
       "<div>\n",
       "<style scoped>\n",
       "    .dataframe tbody tr th:only-of-type {\n",
       "        vertical-align: middle;\n",
       "    }\n",
       "\n",
       "    .dataframe tbody tr th {\n",
       "        vertical-align: top;\n",
       "    }\n",
       "\n",
       "    .dataframe thead th {\n",
       "        text-align: right;\n",
       "    }\n",
       "</style>\n",
       "<table border=\"1\" class=\"dataframe\">\n",
       "  <thead>\n",
       "    <tr style=\"text-align: right;\">\n",
       "      <th></th>\n",
       "      <th>sourceSystem</th>\n",
       "      <th>dialerLeadId</th>\n",
       "      <th>leadDate</th>\n",
       "      <th>afid</th>\n",
       "      <th>campaign id</th>\n",
       "      <th>originalContactType</th>\n",
       "      <th>leadTypeId</th>\n",
       "      <th>leadZip</th>\n",
       "      <th>ageOnLeadGroup</th>\n",
       "      <th>gender</th>\n",
       "      <th>...</th>\n",
       "      <th>callCenterLatestDispoGroup</th>\n",
       "      <th>callCenterLatestDispoDescription</th>\n",
       "      <th>currentSkill</th>\n",
       "      <th>originalSkill</th>\n",
       "      <th>expirationInDays</th>\n",
       "      <th>maxAttempts</th>\n",
       "      <th>dailyMaxAttempts</th>\n",
       "      <th>leadType</th>\n",
       "      <th>deliveryMethod</th>\n",
       "      <th>everCallback</th>\n",
       "    </tr>\n",
       "  </thead>\n",
       "  <tbody>\n",
       "    <tr>\n",
       "      <th>0</th>\n",
       "      <td>tztLeads</td>\n",
       "      <td>2311300</td>\n",
       "      <td>2018-01-01 00:47:18</td>\n",
       "      <td>363047.0</td>\n",
       "      <td>3.0</td>\n",
       "      <td>OB</td>\n",
       "      <td>15.0</td>\n",
       "      <td>97106.0</td>\n",
       "      <td>61 - 70</td>\n",
       "      <td>F</td>\n",
       "      <td>...</td>\n",
       "      <td>Still Workable</td>\n",
       "      <td>Answering Machine</td>\n",
       "      <td>22.0</td>\n",
       "      <td>2.0</td>\n",
       "      <td>30.0</td>\n",
       "      <td>12.0</td>\n",
       "      <td>5.0</td>\n",
       "      <td>Primary</td>\n",
       "      <td>Data</td>\n",
       "      <td>0.0</td>\n",
       "    </tr>\n",
       "    <tr>\n",
       "      <th>1</th>\n",
       "      <td>tztLeads</td>\n",
       "      <td>2311301</td>\n",
       "      <td>2018-01-01 00:53:06</td>\n",
       "      <td>363047.0</td>\n",
       "      <td>3.0</td>\n",
       "      <td>OB</td>\n",
       "      <td>15.0</td>\n",
       "      <td>47448.0</td>\n",
       "      <td>71 - 80</td>\n",
       "      <td>F</td>\n",
       "      <td>...</td>\n",
       "      <td>Transfer Call</td>\n",
       "      <td>Refer to other agent - Product</td>\n",
       "      <td>2.0</td>\n",
       "      <td>2.0</td>\n",
       "      <td>30.0</td>\n",
       "      <td>12.0</td>\n",
       "      <td>5.0</td>\n",
       "      <td>Primary</td>\n",
       "      <td>Data</td>\n",
       "      <td>0.0</td>\n",
       "    </tr>\n",
       "    <tr>\n",
       "      <th>2</th>\n",
       "      <td>tztLeads</td>\n",
       "      <td>2311310</td>\n",
       "      <td>2018-01-01 01:24:14</td>\n",
       "      <td>363047.0</td>\n",
       "      <td>3.0</td>\n",
       "      <td>OB</td>\n",
       "      <td>15.0</td>\n",
       "      <td>63114.0</td>\n",
       "      <td>61 - 70</td>\n",
       "      <td>F</td>\n",
       "      <td>...</td>\n",
       "      <td>Still Workable</td>\n",
       "      <td>No Answer</td>\n",
       "      <td>22.0</td>\n",
       "      <td>2.0</td>\n",
       "      <td>30.0</td>\n",
       "      <td>12.0</td>\n",
       "      <td>5.0</td>\n",
       "      <td>Primary</td>\n",
       "      <td>Data</td>\n",
       "      <td>1.0</td>\n",
       "    </tr>\n",
       "    <tr>\n",
       "      <th>3</th>\n",
       "      <td>tztLeads</td>\n",
       "      <td>2311317</td>\n",
       "      <td>2018-01-01 01:43:12</td>\n",
       "      <td>363047.0</td>\n",
       "      <td>3.0</td>\n",
       "      <td>OB</td>\n",
       "      <td>15.0</td>\n",
       "      <td>28216.0</td>\n",
       "      <td>61 - 70</td>\n",
       "      <td>F</td>\n",
       "      <td>...</td>\n",
       "      <td>No Sale</td>\n",
       "      <td>Can't Afford</td>\n",
       "      <td>2.0</td>\n",
       "      <td>2.0</td>\n",
       "      <td>30.0</td>\n",
       "      <td>12.0</td>\n",
       "      <td>5.0</td>\n",
       "      <td>Primary</td>\n",
       "      <td>Data</td>\n",
       "      <td>0.0</td>\n",
       "    </tr>\n",
       "    <tr>\n",
       "      <th>4</th>\n",
       "      <td>tztLeads</td>\n",
       "      <td>2311318</td>\n",
       "      <td>2018-01-01 01:44:45</td>\n",
       "      <td>363045.0</td>\n",
       "      <td>3.0</td>\n",
       "      <td>OB</td>\n",
       "      <td>15.0</td>\n",
       "      <td>77345.0</td>\n",
       "      <td>61 - 70</td>\n",
       "      <td>M</td>\n",
       "      <td>...</td>\n",
       "      <td>Still Workable</td>\n",
       "      <td>No Answer</td>\n",
       "      <td>22.0</td>\n",
       "      <td>2.0</td>\n",
       "      <td>30.0</td>\n",
       "      <td>12.0</td>\n",
       "      <td>5.0</td>\n",
       "      <td>Primary</td>\n",
       "      <td>Data</td>\n",
       "      <td>0.0</td>\n",
       "    </tr>\n",
       "  </tbody>\n",
       "</table>\n",
       "<p>5 rows × 31 columns</p>\n",
       "</div>"
      ],
      "text/plain": [
       "  sourceSystem  dialerLeadId            leadDate      afid  campaign id  \\\n",
       "0     tztLeads       2311300 2018-01-01 00:47:18  363047.0          3.0   \n",
       "1     tztLeads       2311301 2018-01-01 00:53:06  363047.0          3.0   \n",
       "2     tztLeads       2311310 2018-01-01 01:24:14  363047.0          3.0   \n",
       "3     tztLeads       2311317 2018-01-01 01:43:12  363047.0          3.0   \n",
       "4     tztLeads       2311318 2018-01-01 01:44:45  363045.0          3.0   \n",
       "\n",
       "  originalContactType  leadTypeId  leadZip ageOnLeadGroup gender  ...  \\\n",
       "0                  OB        15.0  97106.0        61 - 70      F  ...   \n",
       "1                  OB        15.0  47448.0        71 - 80      F  ...   \n",
       "2                  OB        15.0  63114.0        61 - 70      F  ...   \n",
       "3                  OB        15.0  28216.0        61 - 70      F  ...   \n",
       "4                  OB        15.0  77345.0        61 - 70      M  ...   \n",
       "\n",
       "   callCenterLatestDispoGroup callCenterLatestDispoDescription  currentSkill  \\\n",
       "0              Still Workable                Answering Machine          22.0   \n",
       "1               Transfer Call   Refer to other agent - Product           2.0   \n",
       "2              Still Workable                        No Answer          22.0   \n",
       "3                     No Sale                     Can't Afford           2.0   \n",
       "4              Still Workable                        No Answer          22.0   \n",
       "\n",
       "   originalSkill  expirationInDays  maxAttempts  dailyMaxAttempts  leadType  \\\n",
       "0            2.0              30.0         12.0               5.0   Primary   \n",
       "1            2.0              30.0         12.0               5.0   Primary   \n",
       "2            2.0              30.0         12.0               5.0   Primary   \n",
       "3            2.0              30.0         12.0               5.0   Primary   \n",
       "4            2.0              30.0         12.0               5.0   Primary   \n",
       "\n",
       "   deliveryMethod  everCallback  \n",
       "0            Data           0.0  \n",
       "1            Data           0.0  \n",
       "2            Data           1.0  \n",
       "3            Data           0.0  \n",
       "4            Data           0.0  \n",
       "\n",
       "[5 rows x 31 columns]"
      ]
     },
     "execution_count": 6,
     "metadata": {},
     "output_type": "execute_result"
    }
   ],
   "source": [
    "leads_df = pd.read_excel(xls, 'Lead Facts')\n",
    "leads_df = leads_df[leads_df['callCenterLatestDispoGroup'].notna()]\n",
    "leads_df.head()"
   ]
  },
  {
   "cell_type": "markdown",
   "id": "fleet-terrorism",
   "metadata": {},
   "source": [
    "Remove meaningless columns"
   ]
  },
  {
   "cell_type": "code",
   "execution_count": 7,
   "id": "enhanced-solomon",
   "metadata": {},
   "outputs": [],
   "source": [
    "# Change complete date to day of week and month\n",
    "leads_df['leadDay'] = leads_df['leadDate'].dt.day_name()\n",
    "leads_df['leadMonth'] = leads_df['leadDate'].dt.month_name()\n",
    "\n",
    "# Remove meaningless columns\n",
    "leads_df.drop(['leadDate', 'callCenterDialAttempts', 'callCenterMinutesToFirstDialAttempt', \n",
    "               'callCenterLatestDispoDescription'], \n",
    "              axis=1, inplace=True)"
   ]
  },
  {
   "cell_type": "markdown",
   "id": "particular-amsterdam",
   "metadata": {},
   "source": [
    "So we should expect 19 numeric and 10 categorical attributes."
   ]
  },
  {
   "cell_type": "code",
   "execution_count": 8,
   "id": "western-stopping",
   "metadata": {},
   "outputs": [
    {
     "data": {
      "text/plain": [
       "int64       7\n",
       "float64    12\n",
       "object     10\n",
       "dtype: int64"
      ]
     },
     "execution_count": 8,
     "metadata": {},
     "output_type": "execute_result"
    }
   ],
   "source": [
    "leads_df.dtypes.groupby(leads_df.dtypes).size()"
   ]
  },
  {
   "cell_type": "code",
   "execution_count": 9,
   "id": "disturbed-terror",
   "metadata": {},
   "outputs": [
    {
     "name": "stdout",
     "output_type": "stream",
     "text": [
      "Numeric:\n",
      " ['dialerLeadId' 'afid' 'campaign id' 'leadTypeId' 'leadZip' 'leadCost'\n",
      " 'callCenterLeadCloneSourceId' 'leadsReceived' 'leadsAccepted'\n",
      " 'leadsRejected' 'callCenterLeadsTotal' 'callCenterLeadEverContacted'\n",
      " 'callCenterLeadEverSold' 'currentSkill' 'originalSkill'\n",
      " 'expirationInDays' 'maxAttempts' 'dailyMaxAttempts' 'everCallback']\n",
      "Categorical:\n",
      " ['sourceSystem' 'originalContactType' 'ageOnLeadGroup' 'gender'\n",
      " 'callCenterLeadCreatedReason' 'callCenterLatestDispoGroup' 'leadType'\n",
      " 'deliveryMethod' 'leadDay' 'leadMonth']\n"
     ]
    }
   ],
   "source": [
    "dtypes = pd.DataFrame(leads_df.dtypes.rename('type')).reset_index().astype('str')\n",
    "\n",
    "lead_numeric = dtypes[(dtypes.type.isin(['int64', 'float64']))]['index'].values\n",
    "lead_categorical = dtypes[~(dtypes['index'].isin(lead_numeric))]['index'].values\n",
    "\n",
    "print('Numeric:\\n', lead_numeric)\n",
    "print('Categorical:\\n', lead_categorical)"
   ]
  },
  {
   "cell_type": "markdown",
   "id": "stupid-april",
   "metadata": {},
   "source": [
    "Calculate current campaign success rates"
   ]
  },
  {
   "cell_type": "code",
   "execution_count": 10,
   "id": "played-greene",
   "metadata": {},
   "outputs": [
    {
     "name": "stdout",
     "output_type": "stream",
     "text": [
      "Number of records: 27751\n",
      "Success Rate (Current Campaign): 0.03916975964830096\n"
     ]
    }
   ],
   "source": [
    "coutcomes = leads_df.callCenterLatestDispoGroup.apply(lambda x: 1 if x == 'Sale' else 0)\n",
    "\n",
    "print('Number of records:', len(leads_df))\n",
    "print('Success Rate (Current Campaign):', coutcomes.sum() / len(leads_df))"
   ]
  },
  {
   "cell_type": "markdown",
   "id": "alive-investor",
   "metadata": {},
   "source": [
    "3.9% response rate in the population"
   ]
  },
  {
   "cell_type": "markdown",
   "id": "completed-gross",
   "metadata": {},
   "source": [
    "## 2. Analysis"
   ]
  },
  {
   "cell_type": "markdown",
   "id": "precise-motor",
   "metadata": {},
   "source": [
    "### 2.1 Call Facts"
   ]
  },
  {
   "cell_type": "markdown",
   "id": "final-programming",
   "metadata": {},
   "source": [
    "### 2.1.1 Categorical Data Analysis"
   ]
  },
  {
   "cell_type": "markdown",
   "id": "equipped-booth",
   "metadata": {},
   "source": [
    "Any missing values?"
   ]
  },
  {
   "cell_type": "code",
   "execution_count": 11,
   "id": "decimal-squad",
   "metadata": {},
   "outputs": [
    {
     "data": {
      "text/plain": [
       "dispoGroup          0\n",
       "dispoDescription    0\n",
       "callDay             0\n",
       "callMonth           0\n",
       "dtype: int64"
      ]
     },
     "execution_count": 11,
     "metadata": {},
     "output_type": "execute_result"
    }
   ],
   "source": [
    "calls_df[call_categorical].isnull().sum()"
   ]
  },
  {
   "cell_type": "markdown",
   "id": "serial-pharmacology",
   "metadata": {},
   "source": [
    "How are values distributed accross categorical attributes?"
   ]
  },
  {
   "cell_type": "code",
   "execution_count": 12,
   "id": "special-beverage",
   "metadata": {},
   "outputs": [
    {
     "name": "stdout",
     "output_type": "stream",
     "text": [
      "Support (callDay)\n",
      "\n",
      "Tuesday      27655\n",
      "Wednesday    27102\n",
      "Monday       26118\n",
      "Thursday     25909\n",
      "Friday       25378\n",
      "Name: callDay, dtype: int64 \n",
      "\n",
      "Support (callMonth)\n",
      "\n",
      "January     47437\n",
      "February    43669\n",
      "March       36322\n",
      "April        4160\n",
      "May           307\n",
      "June          173\n",
      "July           94\n",
      "Name: callMonth, dtype: int64 \n",
      "\n"
     ]
    },
    {
     "data": {
      "image/png": "[encoded data removed]",
      "text/plain": [
       "<Figure size 864x288 with 2 Axes>"
      ]
     },
     "metadata": {
      "needs_background": "light"
     },
     "output_type": "display_data"
    },
    {
     "data": {
      "image/png": "[encoded data removed]",
      "text/plain": [
       "<Figure size 864x288 with 2 Axes>"
      ]
     },
     "metadata": {
      "needs_background": "light"
     },
     "output_type": "display_data"
    }
   ],
   "source": [
    "for attr in call_categorical:\n",
    "    if attr in ['dispoGroup', 'dispoDescription']: continue\n",
    "    fig, (ax1, ax2) = plt.subplots(1, 2, figsize=(12,4))\n",
    "    outcome_counts = calls_df.groupby([attr, 'dispoGroup']).size().rename('count').reset_index()\n",
    "    by_outcome = outcome_counts.pivot(columns='dispoGroup', values='count', index=attr)\n",
    "    # Plot the proportions\n",
    "    by_outcome.div(by_outcome.sum(1), axis=0).plot.bar(stacked=True, ax=ax1);\n",
    "    # Plot the counts\n",
    "    calls_df[attr].value_counts().plot.bar(ax=ax2, legend=False,color='steelblue');\n",
    "    print('Support (%s)\\n' % attr)\n",
    "    print(calls_df[attr].value_counts(), '\\n')\n",
    "    plt.title(attr);"
   ]
  },
  {
   "cell_type": "markdown",
   "id": "banner-hardwood",
   "metadata": {},
   "source": [
    "* Calls are uniform accross days of the week.\n",
    "* Day of the week does not seem relevant to predict a sale.\n",
    "* Fewer calls made in the second third of the year."
   ]
  },
  {
   "cell_type": "code",
   "execution_count": 13,
   "id": "pleased-bidding",
   "metadata": {},
   "outputs": [
    {
     "data": {
      "text/html": [
       "<div>\n",
       "<style scoped>\n",
       "    .dataframe tbody tr th:only-of-type {\n",
       "        vertical-align: middle;\n",
       "    }\n",
       "\n",
       "    .dataframe tbody tr th {\n",
       "        vertical-align: top;\n",
       "    }\n",
       "\n",
       "    .dataframe thead th {\n",
       "        text-align: right;\n",
       "    }\n",
       "</style>\n",
       "<table border=\"1\" class=\"dataframe\">\n",
       "  <thead>\n",
       "    <tr style=\"text-align: right;\">\n",
       "      <th></th>\n",
       "      <th>callDay</th>\n",
       "      <th>dispoGroup</th>\n",
       "      <th>rate</th>\n",
       "    </tr>\n",
       "  </thead>\n",
       "  <tbody>\n",
       "    <tr>\n",
       "      <th>5</th>\n",
       "      <td>Friday</td>\n",
       "      <td>Sale</td>\n",
       "      <td>0.012767</td>\n",
       "    </tr>\n",
       "    <tr>\n",
       "      <th>14</th>\n",
       "      <td>Monday</td>\n",
       "      <td>Sale</td>\n",
       "      <td>0.013439</td>\n",
       "    </tr>\n",
       "    <tr>\n",
       "      <th>23</th>\n",
       "      <td>Thursday</td>\n",
       "      <td>Sale</td>\n",
       "      <td>0.011463</td>\n",
       "    </tr>\n",
       "    <tr>\n",
       "      <th>32</th>\n",
       "      <td>Tuesday</td>\n",
       "      <td>Sale</td>\n",
       "      <td>0.012511</td>\n",
       "    </tr>\n",
       "    <tr>\n",
       "      <th>41</th>\n",
       "      <td>Wednesday</td>\n",
       "      <td>Sale</td>\n",
       "      <td>0.012176</td>\n",
       "    </tr>\n",
       "  </tbody>\n",
       "</table>\n",
       "</div>"
      ],
      "text/plain": [
       "      callDay dispoGroup      rate\n",
       "5      Friday       Sale  0.012767\n",
       "14     Monday       Sale  0.013439\n",
       "23   Thursday       Sale  0.011463\n",
       "32    Tuesday       Sale  0.012511\n",
       "41  Wednesday       Sale  0.012176"
      ]
     },
     "execution_count": 13,
     "metadata": {},
     "output_type": "execute_result"
    }
   ],
   "source": [
    "dayofweek_resp_rates = (calls_df.groupby('callDay').dispoGroup.value_counts() / calls_df.groupby('callDay').size()).rename('rate').reset_index()\n",
    "dayofweek_pos_rates = dayofweek_resp_rates.query('dispoGroup == \"Sale\"')\n",
    "dayofweek_pos_rates"
   ]
  },
  {
   "cell_type": "code",
   "execution_count": 14,
   "id": "geological-supplement",
   "metadata": {},
   "outputs": [
    {
     "data": {
      "text/html": [
       "<div>\n",
       "<style scoped>\n",
       "    .dataframe tbody tr th:only-of-type {\n",
       "        vertical-align: middle;\n",
       "    }\n",
       "\n",
       "    .dataframe tbody tr th {\n",
       "        vertical-align: top;\n",
       "    }\n",
       "\n",
       "    .dataframe thead th {\n",
       "        text-align: right;\n",
       "    }\n",
       "</style>\n",
       "<table border=\"1\" class=\"dataframe\">\n",
       "  <thead>\n",
       "    <tr style=\"text-align: right;\">\n",
       "      <th></th>\n",
       "      <th>callMonth</th>\n",
       "      <th>dispoGroup</th>\n",
       "      <th>rate</th>\n",
       "    </tr>\n",
       "  </thead>\n",
       "  <tbody>\n",
       "    <tr>\n",
       "      <th>4</th>\n",
       "      <td>April</td>\n",
       "      <td>Sale</td>\n",
       "      <td>0.012019</td>\n",
       "    </tr>\n",
       "    <tr>\n",
       "      <th>13</th>\n",
       "      <td>February</td>\n",
       "      <td>Sale</td>\n",
       "      <td>0.010946</td>\n",
       "    </tr>\n",
       "    <tr>\n",
       "      <th>22</th>\n",
       "      <td>January</td>\n",
       "      <td>Sale</td>\n",
       "      <td>0.013639</td>\n",
       "    </tr>\n",
       "    <tr>\n",
       "      <th>32</th>\n",
       "      <td>July</td>\n",
       "      <td>Sale</td>\n",
       "      <td>0.010638</td>\n",
       "    </tr>\n",
       "    <tr>\n",
       "      <th>37</th>\n",
       "      <td>June</td>\n",
       "      <td>Sale</td>\n",
       "      <td>0.057803</td>\n",
       "    </tr>\n",
       "    <tr>\n",
       "      <th>45</th>\n",
       "      <td>March</td>\n",
       "      <td>Sale</td>\n",
       "      <td>0.012444</td>\n",
       "    </tr>\n",
       "    <tr>\n",
       "      <th>53</th>\n",
       "      <td>May</td>\n",
       "      <td>Sale</td>\n",
       "      <td>0.032573</td>\n",
       "    </tr>\n",
       "  </tbody>\n",
       "</table>\n",
       "</div>"
      ],
      "text/plain": [
       "   callMonth dispoGroup      rate\n",
       "4      April       Sale  0.012019\n",
       "13  February       Sale  0.010946\n",
       "22   January       Sale  0.013639\n",
       "32      July       Sale  0.010638\n",
       "37      June       Sale  0.057803\n",
       "45     March       Sale  0.012444\n",
       "53       May       Sale  0.032573"
      ]
     },
     "execution_count": 14,
     "metadata": {},
     "output_type": "execute_result"
    }
   ],
   "source": [
    "month_resp_rates = (calls_df.groupby('callMonth').dispoGroup.value_counts() / calls_df.groupby('callMonth').size()).rename('rate').reset_index()\n",
    "month_pos_rates = month_resp_rates.query('dispoGroup == \"Sale\"')\n",
    "month_pos_rates"
   ]
  },
  {
   "cell_type": "markdown",
   "id": "interim-citizen",
   "metadata": {},
   "source": [
    "Even though months like May and June have fewer calls, they have a higher conversion rate."
   ]
  },
  {
   "cell_type": "markdown",
   "id": "solved-arnold",
   "metadata": {},
   "source": [
    "### 2.1.2 Numerical Data Analysis"
   ]
  },
  {
   "cell_type": "markdown",
   "id": "alpine-legislature",
   "metadata": {},
   "source": [
    "Missing values?"
   ]
  },
  {
   "cell_type": "code",
   "execution_count": 15,
   "id": "united-condition",
   "metadata": {},
   "outputs": [
    {
     "data": {
      "text/plain": [
       "dialerLeadId               0\n",
       "dimAgentId                 0\n",
       "callTypeId                 0\n",
       "callAttemptNumber          0\n",
       "talkTimeSeconds        24776\n",
       "handleTimeSeconds          0\n",
       "outboundCalls              0\n",
       "outboundCallbacks          0\n",
       "inboundCalls               0\n",
       "manualCalls                0\n",
       "inboundCallsHandled        0\n",
       "callSkill                152\n",
       "dtype: int64"
      ]
     },
     "execution_count": 15,
     "metadata": {},
     "output_type": "execute_result"
    }
   ],
   "source": [
    "calls_df[call_numeric].isnull().sum()"
   ]
  },
  {
   "cell_type": "markdown",
   "id": "handed-reflection",
   "metadata": {},
   "source": [
    "Fill missing values"
   ]
  },
  {
   "cell_type": "code",
   "execution_count": 16,
   "id": "worldwide-blood",
   "metadata": {},
   "outputs": [],
   "source": [
    "values = {'talkTimeSeconds': 0, 'callSkill': 0}\n",
    "calls_df = calls_df.fillna(value=values)"
   ]
  },
  {
   "cell_type": "markdown",
   "id": "reliable-sheriff",
   "metadata": {},
   "source": [
    "Make histograms from attributes"
   ]
  },
  {
   "cell_type": "code",
   "execution_count": 17,
   "id": "liable-hydrogen",
   "metadata": {},
   "outputs": [
    {
     "data": {
      "image/png": "[encoded data removed]",
      "text/plain": [
       "<Figure size 864x864 with 12 Axes>"
      ]
     },
     "metadata": {
      "needs_background": "light"
     },
     "output_type": "display_data"
    }
   ],
   "source": [
    "calls_df[call_numeric].hist(figsize=(12,12));"
   ]
  },
  {
   "cell_type": "markdown",
   "id": "suspected-technical",
   "metadata": {},
   "source": [
    "The fact that a majority of instances have same values in `outboundCallbacks`, `inboundCalls`, `manualCalls` and `inboundCallsHandled` are going to be problematic if we want to use these attributes as a model features.  Since so few instances have sparse values in these atrributes, we *could* remove them from the analysis and modelling process."
   ]
  },
  {
   "cell_type": "code",
   "execution_count": 18,
   "id": "engaged-performer",
   "metadata": {},
   "outputs": [],
   "source": [
    "# Remove meaningless columns\n",
    "excluded = ['outboundCallbacks', 'inboundCalls', 'manualCalls', 'inboundCallsHandled']\n",
    "calls_df.drop(excluded, axis=1, inplace=True)"
   ]
  },
  {
   "cell_type": "code",
   "execution_count": 19,
   "id": "fresh-synthesis",
   "metadata": {},
   "outputs": [
    {
     "data": {
      "text/html": [
       "<div>\n",
       "<style scoped>\n",
       "    .dataframe tbody tr th:only-of-type {\n",
       "        vertical-align: middle;\n",
       "    }\n",
       "\n",
       "    .dataframe tbody tr th {\n",
       "        vertical-align: top;\n",
       "    }\n",
       "\n",
       "    .dataframe thead th {\n",
       "        text-align: right;\n",
       "    }\n",
       "</style>\n",
       "<table border=\"1\" class=\"dataframe\">\n",
       "  <thead>\n",
       "    <tr style=\"text-align: right;\">\n",
       "      <th></th>\n",
       "      <th>callAttemptNumber</th>\n",
       "      <th>callSkill</th>\n",
       "      <th>callTypeId</th>\n",
       "      <th>dialerLeadId</th>\n",
       "      <th>dimAgentId</th>\n",
       "      <th>handleTimeSeconds</th>\n",
       "      <th>outboundCalls</th>\n",
       "      <th>talkTimeSeconds</th>\n",
       "    </tr>\n",
       "  </thead>\n",
       "  <tbody>\n",
       "    <tr>\n",
       "      <th>count</th>\n",
       "      <td>132162.000000</td>\n",
       "      <td>132162.000000</td>\n",
       "      <td>132162.000000</td>\n",
       "      <td>1.321620e+05</td>\n",
       "      <td>132162.000000</td>\n",
       "      <td>132162.000000</td>\n",
       "      <td>132162.000000</td>\n",
       "      <td>132162.000000</td>\n",
       "    </tr>\n",
       "    <tr>\n",
       "      <th>mean</th>\n",
       "      <td>4.781851</td>\n",
       "      <td>16.403966</td>\n",
       "      <td>1.432545</td>\n",
       "      <td>5.703516e+08</td>\n",
       "      <td>766.861700</td>\n",
       "      <td>137.097237</td>\n",
       "      <td>0.901538</td>\n",
       "      <td>95.764085</td>\n",
       "    </tr>\n",
       "    <tr>\n",
       "      <th>std</th>\n",
       "      <td>3.376044</td>\n",
       "      <td>10.601213</td>\n",
       "      <td>2.829132</td>\n",
       "      <td>4.125704e+10</td>\n",
       "      <td>157.876715</td>\n",
       "      <td>387.608740</td>\n",
       "      <td>0.297940</td>\n",
       "      <td>369.503638</td>\n",
       "    </tr>\n",
       "    <tr>\n",
       "      <th>min</th>\n",
       "      <td>0.000000</td>\n",
       "      <td>0.000000</td>\n",
       "      <td>1.000000</td>\n",
       "      <td>2.311300e+06</td>\n",
       "      <td>186.000000</td>\n",
       "      <td>0.000000</td>\n",
       "      <td>0.000000</td>\n",
       "      <td>-42.000000</td>\n",
       "    </tr>\n",
       "    <tr>\n",
       "      <th>25%</th>\n",
       "      <td>2.000000</td>\n",
       "      <td>2.000000</td>\n",
       "      <td>1.000000</td>\n",
       "      <td>2.587842e+06</td>\n",
       "      <td>735.000000</td>\n",
       "      <td>29.000000</td>\n",
       "      <td>1.000000</td>\n",
       "      <td>2.000000</td>\n",
       "    </tr>\n",
       "    <tr>\n",
       "      <th>50%</th>\n",
       "      <td>4.000000</td>\n",
       "      <td>22.000000</td>\n",
       "      <td>1.000000</td>\n",
       "      <td>2.922836e+06</td>\n",
       "      <td>743.000000</td>\n",
       "      <td>43.000000</td>\n",
       "      <td>1.000000</td>\n",
       "      <td>9.000000</td>\n",
       "    </tr>\n",
       "    <tr>\n",
       "      <th>75%</th>\n",
       "      <td>7.000000</td>\n",
       "      <td>22.000000</td>\n",
       "      <td>1.000000</td>\n",
       "      <td>3.148360e+06</td>\n",
       "      <td>913.000000</td>\n",
       "      <td>82.000000</td>\n",
       "      <td>1.000000</td>\n",
       "      <td>33.000000</td>\n",
       "    </tr>\n",
       "    <tr>\n",
       "      <th>max</th>\n",
       "      <td>22.000000</td>\n",
       "      <td>51.000000</td>\n",
       "      <td>41.000000</td>\n",
       "      <td>3.000000e+12</td>\n",
       "      <td>1142.000000</td>\n",
       "      <td>10779.000000</td>\n",
       "      <td>1.000000</td>\n",
       "      <td>10700.000000</td>\n",
       "    </tr>\n",
       "  </tbody>\n",
       "</table>\n",
       "</div>"
      ],
      "text/plain": [
       "       callAttemptNumber      callSkill     callTypeId  dialerLeadId  \\\n",
       "count      132162.000000  132162.000000  132162.000000  1.321620e+05   \n",
       "mean            4.781851      16.403966       1.432545  5.703516e+08   \n",
       "std             3.376044      10.601213       2.829132  4.125704e+10   \n",
       "min             0.000000       0.000000       1.000000  2.311300e+06   \n",
       "25%             2.000000       2.000000       1.000000  2.587842e+06   \n",
       "50%             4.000000      22.000000       1.000000  2.922836e+06   \n",
       "75%             7.000000      22.000000       1.000000  3.148360e+06   \n",
       "max            22.000000      51.000000      41.000000  3.000000e+12   \n",
       "\n",
       "          dimAgentId  handleTimeSeconds  outboundCalls  talkTimeSeconds  \n",
       "count  132162.000000      132162.000000  132162.000000    132162.000000  \n",
       "mean      766.861700         137.097237       0.901538        95.764085  \n",
       "std       157.876715         387.608740       0.297940       369.503638  \n",
       "min       186.000000           0.000000       0.000000       -42.000000  \n",
       "25%       735.000000          29.000000       1.000000         2.000000  \n",
       "50%       743.000000          43.000000       1.000000         9.000000  \n",
       "75%       913.000000          82.000000       1.000000        33.000000  \n",
       "max      1142.000000       10779.000000       1.000000     10700.000000  "
      ]
     },
     "execution_count": 19,
     "metadata": {},
     "output_type": "execute_result"
    }
   ],
   "source": [
    "calls_df[np.setdiff1d(call_numeric,excluded)].describe()"
   ]
  },
  {
   "cell_type": "markdown",
   "id": "fundamental-input",
   "metadata": {},
   "source": [
    "### 2.2 Lead Facts"
   ]
  },
  {
   "cell_type": "markdown",
   "id": "aggressive-proposal",
   "metadata": {},
   "source": [
    "#### 2.2.1 Categorical Data Analysis"
   ]
  },
  {
   "cell_type": "markdown",
   "id": "purple-covering",
   "metadata": {},
   "source": [
    "Any missing values?"
   ]
  },
  {
   "cell_type": "code",
   "execution_count": 20,
   "id": "close-scanner",
   "metadata": {},
   "outputs": [
    {
     "data": {
      "text/plain": [
       "sourceSystem                      0\n",
       "originalContactType               0\n",
       "ageOnLeadGroup                 3998\n",
       "gender                         4984\n",
       "callCenterLeadCreatedReason       0\n",
       "callCenterLatestDispoGroup        0\n",
       "leadType                          0\n",
       "deliveryMethod                    0\n",
       "leadDay                           0\n",
       "leadMonth                         0\n",
       "dtype: int64"
      ]
     },
     "execution_count": 20,
     "metadata": {},
     "output_type": "execute_result"
    }
   ],
   "source": [
    "leads_df[lead_categorical].isnull().sum()"
   ]
  },
  {
   "cell_type": "markdown",
   "id": "assigned-absorption",
   "metadata": {},
   "source": [
    "Fill missing values"
   ]
  },
  {
   "cell_type": "code",
   "execution_count": 21,
   "id": "ethical-strategy",
   "metadata": {},
   "outputs": [],
   "source": [
    "values = {'ageOnLeadGroup': 'Undefined', 'gender': 'U'}\n",
    "leads_df = leads_df.fillna(value=values)"
   ]
  },
  {
   "cell_type": "markdown",
   "id": "soviet-toner",
   "metadata": {},
   "source": [
    "How are values distributed accross categorical attributes?"
   ]
  },
  {
   "cell_type": "code",
   "execution_count": 22,
   "id": "operational-expert",
   "metadata": {},
   "outputs": [
    {
     "name": "stdout",
     "output_type": "stream",
     "text": [
      "Support (sourceSystem)\n",
      "\n",
      "tztLeads    21627\n",
      "CUY-AMS      6124\n",
      "Name: sourceSystem, dtype: int64 \n",
      "\n",
      "Support (originalContactType)\n",
      "\n",
      "OB    21972\n",
      "IB     5779\n",
      "Name: originalContactType, dtype: int64 \n",
      "\n",
      "Support (ageOnLeadGroup)\n",
      "\n",
      "61 - 70      16701\n",
      "71 - 80       5879\n",
      "Undefined     3998\n",
      "81 - 90        830\n",
      "Over 90        126\n",
      "51 - 60        114\n",
      "41 - 50         38\n",
      "31 - 40         35\n",
      "20 - 30         24\n",
      "Under 20         6\n",
      "Name: ageOnLeadGroup, dtype: int64 \n",
      "\n",
      "Support (gender)\n",
      "\n",
      "F    12259\n",
      "M    10485\n",
      "U     5005\n",
      "0        2\n",
      "Name: gender, dtype: int64 \n",
      "\n",
      "Support (leadType)\n",
      "\n",
      "Primary    27743\n",
      "Shared         8\n",
      "Name: leadType, dtype: int64 \n",
      "\n",
      "Support (deliveryMethod)\n",
      "\n",
      "Data     22020\n",
      "Voice     5731\n",
      "Name: deliveryMethod, dtype: int64 \n",
      "\n",
      "Support (leadDay)\n",
      "\n",
      "Wednesday    5723\n",
      "Tuesday      5671\n",
      "Thursday     5477\n",
      "Monday       5269\n",
      "Friday       4796\n",
      "Saturday      449\n",
      "Sunday        366\n",
      "Name: leadDay, dtype: int64 \n",
      "\n",
      "Support (leadMonth)\n",
      "\n",
      "January     11040\n",
      "February     8782\n",
      "March        7929\n",
      "Name: leadMonth, dtype: int64 \n",
      "\n"
     ]
    },
    {
     "data": {
      "image/png": "[encoded data removed]",
      "text/plain": [
       "<Figure size 864x288 with 2 Axes>"
      ]
     },
     "metadata": {
      "needs_background": "light"
     },
     "output_type": "display_data"
    },
    {
     "data": {
      "image/png": "[encoded data removed]",
      "text/plain": [
       "<Figure size 864x288 with 2 Axes>"
      ]
     },
     "metadata": {
      "needs_background": "light"
     },
     "output_type": "display_data"
    },
    {
     "data": {
      "image/png": "[encoded data removed]",
      "text/plain": [
       "<Figure size 864x288 with 2 Axes>"
      ]
     },
     "metadata": {
      "needs_background": "light"
     },
     "output_type": "display_data"
    },
    {
     "data": {
      "image/png": "[encoded data removed]",
      "text/plain": [
       "<Figure size 864x288 with 2 Axes>"
      ]
     },
     "metadata": {
      "needs_background": "light"
     },
     "output_type": "display_data"
    },
    {
     "data": {
      "image/png": "[encoded data removed]",
      "text/plain": [
       "<Figure size 864x288 with 2 Axes>"
      ]
     },
     "metadata": {
      "needs_background": "light"
     },
     "output_type": "display_data"
    },
    {
     "data": {
      "image/png": "[encoded data removed]",
      "text/plain": [
       "<Figure size 864x288 with 2 Axes>"
      ]
     },
     "metadata": {
      "needs_background": "light"
     },
     "output_type": "display_data"
    },
    {
     "data": {
      "image/png": "[encoded data removed]",
      "text/plain": [
       "<Figure size 864x288 with 2 Axes>"
      ]
     },
     "metadata": {
      "needs_background": "light"
     },
     "output_type": "display_data"
    },
    {
     "data": {
      "image/png": "[encoded data removed]",
      "text/plain": [
       "<Figure size 864x288 with 2 Axes>"
      ]
     },
     "metadata": {
      "needs_background": "light"
     },
     "output_type": "display_data"
    }
   ],
   "source": [
    "for attr in lead_categorical:\n",
    "    if attr in ['callCenterLatestDispoGroup', 'callCenterLeadCreatedReason']: continue\n",
    "    fig, (ax1, ax2) = plt.subplots(1, 2, figsize=(12,4))\n",
    "    outcome_counts = leads_df.groupby([attr, 'callCenterLatestDispoGroup']).size().rename('count').reset_index()\n",
    "    by_outcome = outcome_counts.pivot(columns='callCenterLatestDispoGroup', values='count', index=attr)\n",
    "    # Plot the proportions\n",
    "    by_outcome.div(by_outcome.sum(1), axis=0).plot.bar(stacked=True, ax=ax1);\n",
    "    # Plot the counts\n",
    "    leads_df[attr].value_counts().plot.bar(ax=ax2, legend=False,color='steelblue');\n",
    "    print('Support (%s)\\n' % attr)\n",
    "    print(leads_df[attr].value_counts(), '\\n')\n",
    "    plt.title(attr);"
   ]
  },
  {
   "cell_type": "markdown",
   "id": "civic-clone",
   "metadata": {},
   "source": [
    "* The source system with higher conversion rate is `CUY-AMY`. However, `tztLeads` provides a higher quantity of leads.\n",
    "* IB contacts are more relevant than OB.\n",
    "* Rate conversion in people under 20 is higher than other groups.\n",
    "* Leads with delivery method Voice and lead type Shared can achive a sale easier than other groups.\n",
    "* Calls are uniform accross days of weekdays.\n",
    "* Day of the week does not seem relevant to predict a sale."
   ]
  },
  {
   "cell_type": "code",
   "execution_count": 23,
   "id": "proper-republic",
   "metadata": {},
   "outputs": [
    {
     "data": {
      "text/html": [
       "<div>\n",
       "<style scoped>\n",
       "    .dataframe tbody tr th:only-of-type {\n",
       "        vertical-align: middle;\n",
       "    }\n",
       "\n",
       "    .dataframe tbody tr th {\n",
       "        vertical-align: top;\n",
       "    }\n",
       "\n",
       "    .dataframe thead th {\n",
       "        text-align: right;\n",
       "    }\n",
       "</style>\n",
       "<table border=\"1\" class=\"dataframe\">\n",
       "  <thead>\n",
       "    <tr style=\"text-align: right;\">\n",
       "      <th></th>\n",
       "      <th>leadDay</th>\n",
       "      <th>callCenterLatestDispoGroup</th>\n",
       "      <th>rate</th>\n",
       "    </tr>\n",
       "  </thead>\n",
       "  <tbody>\n",
       "    <tr>\n",
       "      <th>4</th>\n",
       "      <td>Friday</td>\n",
       "      <td>Sale</td>\n",
       "      <td>0.039616</td>\n",
       "    </tr>\n",
       "    <tr>\n",
       "      <th>12</th>\n",
       "      <td>Monday</td>\n",
       "      <td>Sale</td>\n",
       "      <td>0.044221</td>\n",
       "    </tr>\n",
       "    <tr>\n",
       "      <th>20</th>\n",
       "      <td>Saturday</td>\n",
       "      <td>Sale</td>\n",
       "      <td>0.042316</td>\n",
       "    </tr>\n",
       "    <tr>\n",
       "      <th>28</th>\n",
       "      <td>Sunday</td>\n",
       "      <td>Sale</td>\n",
       "      <td>0.040984</td>\n",
       "    </tr>\n",
       "    <tr>\n",
       "      <th>36</th>\n",
       "      <td>Thursday</td>\n",
       "      <td>Sale</td>\n",
       "      <td>0.033778</td>\n",
       "    </tr>\n",
       "    <tr>\n",
       "      <th>44</th>\n",
       "      <td>Tuesday</td>\n",
       "      <td>Sale</td>\n",
       "      <td>0.039852</td>\n",
       "    </tr>\n",
       "    <tr>\n",
       "      <th>52</th>\n",
       "      <td>Wednesday</td>\n",
       "      <td>Sale</td>\n",
       "      <td>0.038267</td>\n",
       "    </tr>\n",
       "  </tbody>\n",
       "</table>\n",
       "</div>"
      ],
      "text/plain": [
       "      leadDay callCenterLatestDispoGroup      rate\n",
       "4      Friday                       Sale  0.039616\n",
       "12     Monday                       Sale  0.044221\n",
       "20   Saturday                       Sale  0.042316\n",
       "28     Sunday                       Sale  0.040984\n",
       "36   Thursday                       Sale  0.033778\n",
       "44    Tuesday                       Sale  0.039852\n",
       "52  Wednesday                       Sale  0.038267"
      ]
     },
     "execution_count": 23,
     "metadata": {},
     "output_type": "execute_result"
    }
   ],
   "source": [
    "dayofweek_resp_rates = (leads_df.groupby('leadDay').callCenterLatestDispoGroup.value_counts() / leads_df.groupby('leadDay').size()).rename('rate').reset_index()\n",
    "dayofweek_pos_rates = dayofweek_resp_rates.query('callCenterLatestDispoGroup == \"Sale\"')\n",
    "dayofweek_pos_rates"
   ]
  },
  {
   "cell_type": "code",
   "execution_count": 24,
   "id": "knowing-despite",
   "metadata": {},
   "outputs": [
    {
     "data": {
      "text/html": [
       "<div>\n",
       "<style scoped>\n",
       "    .dataframe tbody tr th:only-of-type {\n",
       "        vertical-align: middle;\n",
       "    }\n",
       "\n",
       "    .dataframe tbody tr th {\n",
       "        vertical-align: top;\n",
       "    }\n",
       "\n",
       "    .dataframe thead th {\n",
       "        text-align: right;\n",
       "    }\n",
       "</style>\n",
       "<table border=\"1\" class=\"dataframe\">\n",
       "  <thead>\n",
       "    <tr style=\"text-align: right;\">\n",
       "      <th></th>\n",
       "      <th>leadMonth</th>\n",
       "      <th>callCenterLatestDispoGroup</th>\n",
       "      <th>rate</th>\n",
       "    </tr>\n",
       "  </thead>\n",
       "  <tbody>\n",
       "    <tr>\n",
       "      <th>4</th>\n",
       "      <td>February</td>\n",
       "      <td>Sale</td>\n",
       "      <td>0.034958</td>\n",
       "    </tr>\n",
       "    <tr>\n",
       "      <th>12</th>\n",
       "      <td>January</td>\n",
       "      <td>Sale</td>\n",
       "      <td>0.041576</td>\n",
       "    </tr>\n",
       "    <tr>\n",
       "      <th>20</th>\n",
       "      <td>March</td>\n",
       "      <td>Sale</td>\n",
       "      <td>0.040484</td>\n",
       "    </tr>\n",
       "  </tbody>\n",
       "</table>\n",
       "</div>"
      ],
      "text/plain": [
       "   leadMonth callCenterLatestDispoGroup      rate\n",
       "4   February                       Sale  0.034958\n",
       "12   January                       Sale  0.041576\n",
       "20     March                       Sale  0.040484"
      ]
     },
     "execution_count": 24,
     "metadata": {},
     "output_type": "execute_result"
    }
   ],
   "source": [
    "month_resp_rates = (leads_df.groupby('leadMonth').callCenterLatestDispoGroup.value_counts() / leads_df.groupby('leadMonth').size()).rename('rate').reset_index()\n",
    "month_pos_rates = month_resp_rates.query('callCenterLatestDispoGroup == \"Sale\"')\n",
    "month_pos_rates"
   ]
  },
  {
   "cell_type": "markdown",
   "id": "boring-intensity",
   "metadata": {},
   "source": [
    "Month like February and March have a higher conversion rate."
   ]
  },
  {
   "cell_type": "markdown",
   "id": "coordinate-pathology",
   "metadata": {},
   "source": [
    "#### 2.2.2 Numerical Data Analysis"
   ]
  },
  {
   "cell_type": "markdown",
   "id": "negative-jackson",
   "metadata": {},
   "source": [
    "Missing values?"
   ]
  },
  {
   "cell_type": "code",
   "execution_count": 25,
   "id": "endless-supply",
   "metadata": {},
   "outputs": [
    {
     "data": {
      "text/plain": [
       "dialerLeadId                       0\n",
       "afid                             135\n",
       "campaign id                     5240\n",
       "leadTypeId                      9188\n",
       "leadZip                         3268\n",
       "leadCost                        9343\n",
       "callCenterLeadCloneSourceId    27491\n",
       "leadsReceived                      0\n",
       "leadsAccepted                      0\n",
       "leadsRejected                      0\n",
       "callCenterLeadsTotal               0\n",
       "callCenterLeadEverContacted        0\n",
       "callCenterLeadEverSold             0\n",
       "currentSkill                       0\n",
       "originalSkill                   2098\n",
       "expirationInDays                2140\n",
       "maxAttempts                     2140\n",
       "dailyMaxAttempts                2140\n",
       "everCallback                     123\n",
       "dtype: int64"
      ]
     },
     "execution_count": 25,
     "metadata": {},
     "output_type": "execute_result"
    }
   ],
   "source": [
    "leads_df[lead_numeric].isnull().sum()"
   ]
  },
  {
   "cell_type": "markdown",
   "id": "medieval-fifth",
   "metadata": {},
   "source": [
    "Fill missing values"
   ]
  },
  {
   "cell_type": "code",
   "execution_count": 26,
   "id": "wrong-hopkins",
   "metadata": {},
   "outputs": [],
   "source": [
    "values = {'afid': 0, 'campaign id': 0, 'leadTypeId': 0, 'leadZip': 0, 'leadCost': 0, 'callCenterLeadCloneSourceId': 0, \n",
    "          'originalSkill': 0, 'expirationInDays': 30, 'maxAttempts': 10, 'dailyMaxAttempts': 2, 'everCallback': -1}\n",
    "leads_df = leads_df.fillna(value=values)"
   ]
  },
  {
   "cell_type": "markdown",
   "id": "suspended-holiday",
   "metadata": {},
   "source": [
    "Make histograms from attributes"
   ]
  },
  {
   "cell_type": "code",
   "execution_count": 27,
   "id": "powerful-vampire",
   "metadata": {},
   "outputs": [
    {
     "data": {
      "image/png": "[encoded data removed]",
      "text/plain": [
       "<Figure size 864x864 with 20 Axes>"
      ]
     },
     "metadata": {
      "needs_background": "light"
     },
     "output_type": "display_data"
    }
   ],
   "source": [
    "leads_df[lead_numeric].hist(figsize=(12,12));"
   ]
  },
  {
   "cell_type": "markdown",
   "id": "secret-nickel",
   "metadata": {},
   "source": [
    "The fact that a majority of instances have same values in `leadCost`, `callCenterLeadCloneSourceId`, `leadsRejected`, `callCenterLeadsTotal`, `callCenterLeadEverSold`, `originalSkill` and `expirationInDays` are going to be problematic if we want to use these attributes as a model features.  Since so few instances have sparse values in these atrributes, we *could* remove them from the analysis and modelling process."
   ]
  },
  {
   "cell_type": "code",
   "execution_count": 28,
   "id": "negative-complement",
   "metadata": {},
   "outputs": [],
   "source": [
    "# Remove meaningless columns\n",
    "excluded = ['leadCost', 'callCenterLeadCloneSourceId', 'leadsRejected', 'callCenterLeadsTotal', \n",
    "            'originalSkill', 'expirationInDays']\n",
    "leads_df.drop(excluded, axis=1, inplace=True)"
   ]
  },
  {
   "cell_type": "code",
   "execution_count": 29,
   "id": "conventional-value",
   "metadata": {},
   "outputs": [
    {
     "data": {
      "text/html": [
       "<div>\n",
       "<style scoped>\n",
       "    .dataframe tbody tr th:only-of-type {\n",
       "        vertical-align: middle;\n",
       "    }\n",
       "\n",
       "    .dataframe tbody tr th {\n",
       "        vertical-align: top;\n",
       "    }\n",
       "\n",
       "    .dataframe thead th {\n",
       "        text-align: right;\n",
       "    }\n",
       "</style>\n",
       "<table border=\"1\" class=\"dataframe\">\n",
       "  <thead>\n",
       "    <tr style=\"text-align: right;\">\n",
       "      <th></th>\n",
       "      <th>afid</th>\n",
       "      <th>callCenterLeadEverContacted</th>\n",
       "      <th>callCenterLeadEverSold</th>\n",
       "      <th>campaign id</th>\n",
       "      <th>currentSkill</th>\n",
       "      <th>dailyMaxAttempts</th>\n",
       "      <th>dialerLeadId</th>\n",
       "      <th>everCallback</th>\n",
       "      <th>leadTypeId</th>\n",
       "      <th>leadZip</th>\n",
       "      <th>leadsAccepted</th>\n",
       "      <th>leadsReceived</th>\n",
       "      <th>maxAttempts</th>\n",
       "    </tr>\n",
       "  </thead>\n",
       "  <tbody>\n",
       "    <tr>\n",
       "      <th>count</th>\n",
       "      <td>27751.000000</td>\n",
       "      <td>27751.000000</td>\n",
       "      <td>27751.000000</td>\n",
       "      <td>27751.000000</td>\n",
       "      <td>27751.000000</td>\n",
       "      <td>27751.000000</td>\n",
       "      <td>2.775100e+04</td>\n",
       "      <td>27751.000000</td>\n",
       "      <td>27751.000000</td>\n",
       "      <td>27751.000000</td>\n",
       "      <td>27751.000000</td>\n",
       "      <td>27751.000000</td>\n",
       "      <td>27751.000000</td>\n",
       "    </tr>\n",
       "    <tr>\n",
       "      <th>mean</th>\n",
       "      <td>363290.070808</td>\n",
       "      <td>0.512198</td>\n",
       "      <td>0.059385</td>\n",
       "      <td>9.894346</td>\n",
       "      <td>12.153796</td>\n",
       "      <td>4.768008</td>\n",
       "      <td>2.862038e+06</td>\n",
       "      <td>0.069187</td>\n",
       "      <td>10.033512</td>\n",
       "      <td>48123.133689</td>\n",
       "      <td>0.779323</td>\n",
       "      <td>0.779323</td>\n",
       "      <td>11.845843</td>\n",
       "    </tr>\n",
       "    <tr>\n",
       "      <th>std</th>\n",
       "      <td>69489.964976</td>\n",
       "      <td>0.499860</td>\n",
       "      <td>0.236349</td>\n",
       "      <td>7.641264</td>\n",
       "      <td>10.160914</td>\n",
       "      <td>0.801360</td>\n",
       "      <td>3.342105e+05</td>\n",
       "      <td>0.270679</td>\n",
       "      <td>7.059130</td>\n",
       "      <td>31139.159099</td>\n",
       "      <td>0.414710</td>\n",
       "      <td>0.414710</td>\n",
       "      <td>0.533711</td>\n",
       "    </tr>\n",
       "    <tr>\n",
       "      <th>min</th>\n",
       "      <td>0.000000</td>\n",
       "      <td>0.000000</td>\n",
       "      <td>0.000000</td>\n",
       "      <td>0.000000</td>\n",
       "      <td>1.000000</td>\n",
       "      <td>2.000000</td>\n",
       "      <td>2.311300e+06</td>\n",
       "      <td>-1.000000</td>\n",
       "      <td>0.000000</td>\n",
       "      <td>0.000000</td>\n",
       "      <td>0.000000</td>\n",
       "      <td>0.000000</td>\n",
       "      <td>10.000000</td>\n",
       "    </tr>\n",
       "    <tr>\n",
       "      <th>25%</th>\n",
       "      <td>316693.000000</td>\n",
       "      <td>0.000000</td>\n",
       "      <td>0.000000</td>\n",
       "      <td>3.000000</td>\n",
       "      <td>2.000000</td>\n",
       "      <td>5.000000</td>\n",
       "      <td>2.583799e+06</td>\n",
       "      <td>0.000000</td>\n",
       "      <td>0.000000</td>\n",
       "      <td>23233.500000</td>\n",
       "      <td>1.000000</td>\n",
       "      <td>1.000000</td>\n",
       "      <td>12.000000</td>\n",
       "    </tr>\n",
       "    <tr>\n",
       "      <th>50%</th>\n",
       "      <td>363047.000000</td>\n",
       "      <td>1.000000</td>\n",
       "      <td>0.000000</td>\n",
       "      <td>15.000000</td>\n",
       "      <td>21.000000</td>\n",
       "      <td>5.000000</td>\n",
       "      <td>2.919029e+06</td>\n",
       "      <td>0.000000</td>\n",
       "      <td>15.000000</td>\n",
       "      <td>46394.000000</td>\n",
       "      <td>1.000000</td>\n",
       "      <td>1.000000</td>\n",
       "      <td>12.000000</td>\n",
       "    </tr>\n",
       "    <tr>\n",
       "      <th>75%</th>\n",
       "      <td>413352.000000</td>\n",
       "      <td>1.000000</td>\n",
       "      <td>0.000000</td>\n",
       "      <td>17.000000</td>\n",
       "      <td>22.000000</td>\n",
       "      <td>5.000000</td>\n",
       "      <td>3.137063e+06</td>\n",
       "      <td>0.000000</td>\n",
       "      <td>15.000000</td>\n",
       "      <td>77084.000000</td>\n",
       "      <td>1.000000</td>\n",
       "      <td>1.000000</td>\n",
       "      <td>12.000000</td>\n",
       "    </tr>\n",
       "    <tr>\n",
       "      <th>max</th>\n",
       "      <td>501287.000000</td>\n",
       "      <td>1.000000</td>\n",
       "      <td>1.000000</td>\n",
       "      <td>19.000000</td>\n",
       "      <td>22.000000</td>\n",
       "      <td>5.000000</td>\n",
       "      <td>3.426522e+06</td>\n",
       "      <td>1.000000</td>\n",
       "      <td>15.000000</td>\n",
       "      <td>98512.000000</td>\n",
       "      <td>1.000000</td>\n",
       "      <td>1.000000</td>\n",
       "      <td>14.000000</td>\n",
       "    </tr>\n",
       "  </tbody>\n",
       "</table>\n",
       "</div>"
      ],
      "text/plain": [
       "                afid  callCenterLeadEverContacted  callCenterLeadEverSold  \\\n",
       "count   27751.000000                 27751.000000            27751.000000   \n",
       "mean   363290.070808                     0.512198                0.059385   \n",
       "std     69489.964976                     0.499860                0.236349   \n",
       "min         0.000000                     0.000000                0.000000   \n",
       "25%    316693.000000                     0.000000                0.000000   \n",
       "50%    363047.000000                     1.000000                0.000000   \n",
       "75%    413352.000000                     1.000000                0.000000   \n",
       "max    501287.000000                     1.000000                1.000000   \n",
       "\n",
       "        campaign id  currentSkill  dailyMaxAttempts  dialerLeadId  \\\n",
       "count  27751.000000  27751.000000      27751.000000  2.775100e+04   \n",
       "mean       9.894346     12.153796          4.768008  2.862038e+06   \n",
       "std        7.641264     10.160914          0.801360  3.342105e+05   \n",
       "min        0.000000      1.000000          2.000000  2.311300e+06   \n",
       "25%        3.000000      2.000000          5.000000  2.583799e+06   \n",
       "50%       15.000000     21.000000          5.000000  2.919029e+06   \n",
       "75%       17.000000     22.000000          5.000000  3.137063e+06   \n",
       "max       19.000000     22.000000          5.000000  3.426522e+06   \n",
       "\n",
       "       everCallback    leadTypeId       leadZip  leadsAccepted  leadsReceived  \\\n",
       "count  27751.000000  27751.000000  27751.000000   27751.000000   27751.000000   \n",
       "mean       0.069187     10.033512  48123.133689       0.779323       0.779323   \n",
       "std        0.270679      7.059130  31139.159099       0.414710       0.414710   \n",
       "min       -1.000000      0.000000      0.000000       0.000000       0.000000   \n",
       "25%        0.000000      0.000000  23233.500000       1.000000       1.000000   \n",
       "50%        0.000000     15.000000  46394.000000       1.000000       1.000000   \n",
       "75%        0.000000     15.000000  77084.000000       1.000000       1.000000   \n",
       "max        1.000000     15.000000  98512.000000       1.000000       1.000000   \n",
       "\n",
       "        maxAttempts  \n",
       "count  27751.000000  \n",
       "mean      11.845843  \n",
       "std        0.533711  \n",
       "min       10.000000  \n",
       "25%       12.000000  \n",
       "50%       12.000000  \n",
       "75%       12.000000  \n",
       "max       14.000000  "
      ]
     },
     "execution_count": 29,
     "metadata": {},
     "output_type": "execute_result"
    }
   ],
   "source": [
    "leads_df[np.setdiff1d(lead_numeric,excluded)].describe()"
   ]
  },
  {
   "cell_type": "markdown",
   "id": "premier-daughter",
   "metadata": {},
   "source": [
    " "
   ]
  },
  {
   "cell_type": "markdown",
   "id": "municipal-optimization",
   "metadata": {},
   "source": [
    "## 3. Dataset"
   ]
  },
  {
   "cell_type": "markdown",
   "id": "extended-badge",
   "metadata": {},
   "source": [
    "### 3.1 Zero state and Predict column"
   ]
  },
  {
   "cell_type": "markdown",
   "id": "static-picture",
   "metadata": {},
   "source": [
    "Include **zero** state when client is not contacted yet and include **predict** column using next state in each case"
   ]
  },
  {
   "cell_type": "code",
   "execution_count": 30,
   "id": "forbidden-haiti",
   "metadata": {},
   "outputs": [],
   "source": [
    "# Get zero state of each lead lifecycle\n",
    "call_first_attempt = calls_df.sort_values(\"callAttemptNumber\").groupby(['dialerLeadId'], as_index=False).nth(0)\n",
    "call_zero_attempt  = call_first_attempt.copy()\n",
    "\n",
    "call_zero_attempt['dimAgentId'] = 0\n",
    "call_zero_attempt['callTypeId'] = 0\n",
    "call_zero_attempt['dispoGroup'] = 'Still Workable'\n",
    "call_zero_attempt['dispoDescription'] = 'No Answer'\n",
    "call_zero_attempt['callAttemptNumber'] = 0\n",
    "call_zero_attempt['talkTimeSeconds'] = 0\n",
    "call_zero_attempt['handleTimeSeconds'] = 0\n",
    "call_zero_attempt['outboundCalls'] = 0\n",
    "call_zero_attempt['callSkill'] = 0\n",
    "calls_df['callDay'] = 'noday'\n",
    "calls_df['callMonth'] = 'nomonth'\n",
    "\n",
    "# Insert zero states in dataset\n",
    "new_calls_df            = pd.concat([calls_df, call_zero_attempt]).reset_index(drop=True)\n",
    "\n",
    "# Include predict column using the next state of each one\n",
    "new_calls_df['predict'] = new_calls_df.sort_values(\"callAttemptNumber\") \\\n",
    "                          .groupby(['dialerLeadId'], as_index=False)['dispoGroup'] \\\n",
    "                          .transform(lambda x: x.shift(-1))\n",
    "\n",
    "# Remove last state of each lead lifecycle because we well predict it\n",
    "call_last_attempt_idx   = new_calls_df.sort_values(\"callAttemptNumber\", ascending=False) \\\n",
    "                          .groupby(['dialerLeadId'], as_index=False) \\\n",
    "                          .nth(0).index\n",
    "new_calls_df            = new_calls_df.drop(call_last_attempt_idx).reset_index(drop=True)"
   ]
  },
  {
   "cell_type": "markdown",
   "id": "rational-introduction",
   "metadata": {},
   "source": [
    "### 3.1 Mix Datasets"
   ]
  },
  {
   "cell_type": "markdown",
   "id": "figured-virginia",
   "metadata": {},
   "source": [
    "Merge CallFacts and LeadFact datasets"
   ]
  },
  {
   "cell_type": "code",
   "execution_count": 31,
   "id": "secret-lecture",
   "metadata": {},
   "outputs": [
    {
     "data": {
      "text/html": [
       "<div>\n",
       "<style scoped>\n",
       "    .dataframe tbody tr th:only-of-type {\n",
       "        vertical-align: middle;\n",
       "    }\n",
       "\n",
       "    .dataframe tbody tr th {\n",
       "        vertical-align: top;\n",
       "    }\n",
       "\n",
       "    .dataframe thead th {\n",
       "        text-align: right;\n",
       "    }\n",
       "</style>\n",
       "<table border=\"1\" class=\"dataframe\">\n",
       "  <thead>\n",
       "    <tr style=\"text-align: right;\">\n",
       "      <th></th>\n",
       "      <th>dialerLeadId</th>\n",
       "      <th>dimAgentId</th>\n",
       "      <th>callTypeId</th>\n",
       "      <th>dispoGroup</th>\n",
       "      <th>dispoDescription</th>\n",
       "      <th>callAttemptNumber</th>\n",
       "      <th>talkTimeSeconds</th>\n",
       "      <th>handleTimeSeconds</th>\n",
       "      <th>outboundCalls</th>\n",
       "      <th>callSkill</th>\n",
       "      <th>...</th>\n",
       "      <th>callCenterLeadEverSold</th>\n",
       "      <th>callCenterLatestDispoGroup</th>\n",
       "      <th>currentSkill</th>\n",
       "      <th>maxAttempts</th>\n",
       "      <th>dailyMaxAttempts</th>\n",
       "      <th>leadType</th>\n",
       "      <th>deliveryMethod</th>\n",
       "      <th>everCallback</th>\n",
       "      <th>leadDay</th>\n",
       "      <th>leadMonth</th>\n",
       "    </tr>\n",
       "  </thead>\n",
       "  <tbody>\n",
       "    <tr>\n",
       "      <th>0</th>\n",
       "      <td>2311300</td>\n",
       "      <td>770</td>\n",
       "      <td>1</td>\n",
       "      <td>Still Workable</td>\n",
       "      <td>Answering Machine</td>\n",
       "      <td>3</td>\n",
       "      <td>12.0</td>\n",
       "      <td>18</td>\n",
       "      <td>1</td>\n",
       "      <td>22.0</td>\n",
       "      <td>...</td>\n",
       "      <td>0</td>\n",
       "      <td>Still Workable</td>\n",
       "      <td>22.0</td>\n",
       "      <td>12.0</td>\n",
       "      <td>5.0</td>\n",
       "      <td>Primary</td>\n",
       "      <td>Data</td>\n",
       "      <td>0.0</td>\n",
       "      <td>Monday</td>\n",
       "      <td>January</td>\n",
       "    </tr>\n",
       "    <tr>\n",
       "      <th>1</th>\n",
       "      <td>2311300</td>\n",
       "      <td>743</td>\n",
       "      <td>1</td>\n",
       "      <td>Still Workable</td>\n",
       "      <td>No Answer</td>\n",
       "      <td>2</td>\n",
       "      <td>0.0</td>\n",
       "      <td>25</td>\n",
       "      <td>1</td>\n",
       "      <td>2.0</td>\n",
       "      <td>...</td>\n",
       "      <td>0</td>\n",
       "      <td>Still Workable</td>\n",
       "      <td>22.0</td>\n",
       "      <td>12.0</td>\n",
       "      <td>5.0</td>\n",
       "      <td>Primary</td>\n",
       "      <td>Data</td>\n",
       "      <td>0.0</td>\n",
       "      <td>Monday</td>\n",
       "      <td>January</td>\n",
       "    </tr>\n",
       "    <tr>\n",
       "      <th>2</th>\n",
       "      <td>2311300</td>\n",
       "      <td>186</td>\n",
       "      <td>1</td>\n",
       "      <td>Still Workable</td>\n",
       "      <td>No Answer</td>\n",
       "      <td>1</td>\n",
       "      <td>35.0</td>\n",
       "      <td>41</td>\n",
       "      <td>1</td>\n",
       "      <td>2.0</td>\n",
       "      <td>...</td>\n",
       "      <td>0</td>\n",
       "      <td>Still Workable</td>\n",
       "      <td>22.0</td>\n",
       "      <td>12.0</td>\n",
       "      <td>5.0</td>\n",
       "      <td>Primary</td>\n",
       "      <td>Data</td>\n",
       "      <td>0.0</td>\n",
       "      <td>Monday</td>\n",
       "      <td>January</td>\n",
       "    </tr>\n",
       "    <tr>\n",
       "      <th>3</th>\n",
       "      <td>2311300</td>\n",
       "      <td>737</td>\n",
       "      <td>1</td>\n",
       "      <td>Still Workable</td>\n",
       "      <td>No Answer</td>\n",
       "      <td>4</td>\n",
       "      <td>9.0</td>\n",
       "      <td>15</td>\n",
       "      <td>1</td>\n",
       "      <td>22.0</td>\n",
       "      <td>...</td>\n",
       "      <td>0</td>\n",
       "      <td>Still Workable</td>\n",
       "      <td>22.0</td>\n",
       "      <td>12.0</td>\n",
       "      <td>5.0</td>\n",
       "      <td>Primary</td>\n",
       "      <td>Data</td>\n",
       "      <td>0.0</td>\n",
       "      <td>Monday</td>\n",
       "      <td>January</td>\n",
       "    </tr>\n",
       "    <tr>\n",
       "      <th>4</th>\n",
       "      <td>2311300</td>\n",
       "      <td>0</td>\n",
       "      <td>0</td>\n",
       "      <td>Still Workable</td>\n",
       "      <td>No Answer</td>\n",
       "      <td>0</td>\n",
       "      <td>0.0</td>\n",
       "      <td>0</td>\n",
       "      <td>0</td>\n",
       "      <td>0.0</td>\n",
       "      <td>...</td>\n",
       "      <td>0</td>\n",
       "      <td>Still Workable</td>\n",
       "      <td>22.0</td>\n",
       "      <td>12.0</td>\n",
       "      <td>5.0</td>\n",
       "      <td>Primary</td>\n",
       "      <td>Data</td>\n",
       "      <td>0.0</td>\n",
       "      <td>Monday</td>\n",
       "      <td>January</td>\n",
       "    </tr>\n",
       "  </tbody>\n",
       "</table>\n",
       "<p>5 rows × 35 columns</p>\n",
       "</div>"
      ],
      "text/plain": [
       "   dialerLeadId  dimAgentId  callTypeId      dispoGroup   dispoDescription  \\\n",
       "0       2311300         770           1  Still Workable  Answering Machine   \n",
       "1       2311300         743           1  Still Workable          No Answer   \n",
       "2       2311300         186           1  Still Workable          No Answer   \n",
       "3       2311300         737           1  Still Workable          No Answer   \n",
       "4       2311300           0           0  Still Workable          No Answer   \n",
       "\n",
       "   callAttemptNumber  talkTimeSeconds  handleTimeSeconds  outboundCalls  \\\n",
       "0                  3             12.0                 18              1   \n",
       "1                  2              0.0                 25              1   \n",
       "2                  1             35.0                 41              1   \n",
       "3                  4              9.0                 15              1   \n",
       "4                  0              0.0                  0              0   \n",
       "\n",
       "   callSkill  ... callCenterLeadEverSold callCenterLatestDispoGroup  \\\n",
       "0       22.0  ...                      0             Still Workable   \n",
       "1        2.0  ...                      0             Still Workable   \n",
       "2        2.0  ...                      0             Still Workable   \n",
       "3       22.0  ...                      0             Still Workable   \n",
       "4        0.0  ...                      0             Still Workable   \n",
       "\n",
       "  currentSkill maxAttempts  dailyMaxAttempts  leadType deliveryMethod  \\\n",
       "0         22.0        12.0               5.0   Primary           Data   \n",
       "1         22.0        12.0               5.0   Primary           Data   \n",
       "2         22.0        12.0               5.0   Primary           Data   \n",
       "3         22.0        12.0               5.0   Primary           Data   \n",
       "4         22.0        12.0               5.0   Primary           Data   \n",
       "\n",
       "   everCallback  leadDay leadMonth  \n",
       "0           0.0   Monday   January  \n",
       "1           0.0   Monday   January  \n",
       "2           0.0   Monday   January  \n",
       "3           0.0   Monday   January  \n",
       "4           0.0   Monday   January  \n",
       "\n",
       "[5 rows x 35 columns]"
      ]
     },
     "execution_count": 31,
     "metadata": {},
     "output_type": "execute_result"
    }
   ],
   "source": [
    "result = pd.merge(new_calls_df, leads_df, on=\"dialerLeadId\")\n",
    "result.head()"
   ]
  },
  {
   "cell_type": "markdown",
   "id": "found-booking",
   "metadata": {},
   "source": [
    "Remove repeated column"
   ]
  },
  {
   "cell_type": "code",
   "execution_count": 32,
   "id": "collect-frame",
   "metadata": {},
   "outputs": [],
   "source": [
    "excluded = ['callCenterLeadCreatedReason', 'callCenterLatestDispoGroup']\n",
    "result.drop(excluded, axis=1, inplace=True)"
   ]
  },
  {
   "cell_type": "markdown",
   "id": "likely-rescue",
   "metadata": {},
   "source": [
    "Missing values?"
   ]
  },
  {
   "cell_type": "code",
   "execution_count": 33,
   "id": "falling-lambda",
   "metadata": {},
   "outputs": [
    {
     "data": {
      "text/plain": [
       "dialerLeadId                   0\n",
       "dimAgentId                     0\n",
       "callTypeId                     0\n",
       "dispoGroup                     0\n",
       "dispoDescription               0\n",
       "callAttemptNumber              0\n",
       "talkTimeSeconds                0\n",
       "handleTimeSeconds              0\n",
       "outboundCalls                  0\n",
       "callSkill                      0\n",
       "callDay                        0\n",
       "callMonth                      0\n",
       "predict                        0\n",
       "sourceSystem                   0\n",
       "afid                           0\n",
       "campaign id                    0\n",
       "originalContactType            0\n",
       "leadTypeId                     0\n",
       "leadZip                        0\n",
       "ageOnLeadGroup                 0\n",
       "gender                         0\n",
       "leadsReceived                  0\n",
       "leadsAccepted                  0\n",
       "callCenterLeadEverContacted    0\n",
       "callCenterLeadEverSold         0\n",
       "currentSkill                   0\n",
       "maxAttempts                    0\n",
       "dailyMaxAttempts               0\n",
       "leadType                       0\n",
       "deliveryMethod                 0\n",
       "everCallback                   0\n",
       "leadDay                        0\n",
       "leadMonth                      0\n",
       "dtype: int64"
      ]
     },
     "execution_count": 33,
     "metadata": {},
     "output_type": "execute_result"
    }
   ],
   "source": [
    "result.isnull().sum()"
   ]
  },
  {
   "cell_type": "markdown",
   "id": "persistent-toronto",
   "metadata": {},
   "source": [
    "Convert categorical values to numbers"
   ]
  },
  {
   "cell_type": "code",
   "execution_count": 34,
   "id": "egyptian-namibia",
   "metadata": {},
   "outputs": [],
   "source": [
    "dtypes = pd.DataFrame(result.dtypes.rename('type')).reset_index().astype('str')\n",
    "categories = dtypes[(dtypes['index'] != 'predict')]['index'].values\n",
    "dataset    = pd.DataFrame()\n",
    "\n",
    "for i, c in enumerate(categories):\n",
    "    result[c] = result[c].astype('category')\n",
    "    dataset['X'+str(i)] = result[c].cat.codes.astype('int64')\n",
    "    \n",
    "dataset['y'] = result['predict'].astype('category').cat.codes.astype('int64')"
   ]
  },
  {
   "cell_type": "code",
   "execution_count": 35,
   "id": "going-future",
   "metadata": {},
   "outputs": [
    {
     "data": {
      "text/plain": [
       "array(['dialerLeadId', 'dimAgentId', 'callTypeId', 'dispoGroup',\n",
       "       'dispoDescription', 'callAttemptNumber', 'talkTimeSeconds',\n",
       "       'handleTimeSeconds', 'outboundCalls', 'callSkill', 'callDay',\n",
       "       'callMonth', 'sourceSystem', 'afid', 'campaign id',\n",
       "       'originalContactType', 'leadTypeId', 'leadZip', 'ageOnLeadGroup',\n",
       "       'gender', 'leadsReceived', 'leadsAccepted',\n",
       "       'callCenterLeadEverContacted', 'callCenterLeadEverSold',\n",
       "       'currentSkill', 'maxAttempts', 'dailyMaxAttempts', 'leadType',\n",
       "       'deliveryMethod', 'everCallback', 'leadDay', 'leadMonth'],\n",
       "      dtype=object)"
      ]
     },
     "execution_count": 35,
     "metadata": {},
     "output_type": "execute_result"
    }
   ],
   "source": [
    "categories"
   ]
  },
  {
   "cell_type": "code",
   "execution_count": 36,
   "id": "welsh-concord",
   "metadata": {},
   "outputs": [
    {
     "data": {
      "text/html": [
       "<div>\n",
       "<style scoped>\n",
       "    .dataframe tbody tr th:only-of-type {\n",
       "        vertical-align: middle;\n",
       "    }\n",
       "\n",
       "    .dataframe tbody tr th {\n",
       "        vertical-align: top;\n",
       "    }\n",
       "\n",
       "    .dataframe thead th {\n",
       "        text-align: right;\n",
       "    }\n",
       "</style>\n",
       "<table border=\"1\" class=\"dataframe\">\n",
       "  <thead>\n",
       "    <tr style=\"text-align: right;\">\n",
       "      <th></th>\n",
       "      <th>X0</th>\n",
       "      <th>X1</th>\n",
       "      <th>X2</th>\n",
       "      <th>X3</th>\n",
       "      <th>X4</th>\n",
       "      <th>X5</th>\n",
       "      <th>X6</th>\n",
       "      <th>X7</th>\n",
       "      <th>X8</th>\n",
       "      <th>X9</th>\n",
       "      <th>...</th>\n",
       "      <th>X23</th>\n",
       "      <th>X24</th>\n",
       "      <th>X25</th>\n",
       "      <th>X26</th>\n",
       "      <th>X27</th>\n",
       "      <th>X28</th>\n",
       "      <th>X29</th>\n",
       "      <th>X30</th>\n",
       "      <th>X31</th>\n",
       "      <th>y</th>\n",
       "    </tr>\n",
       "  </thead>\n",
       "  <tbody>\n",
       "    <tr>\n",
       "      <th>0</th>\n",
       "      <td>0</td>\n",
       "      <td>14</td>\n",
       "      <td>1</td>\n",
       "      <td>5</td>\n",
       "      <td>0</td>\n",
       "      <td>3</td>\n",
       "      <td>28</td>\n",
       "      <td>18</td>\n",
       "      <td>1</td>\n",
       "      <td>5</td>\n",
       "      <td>...</td>\n",
       "      <td>0</td>\n",
       "      <td>3</td>\n",
       "      <td>1</td>\n",
       "      <td>1</td>\n",
       "      <td>0</td>\n",
       "      <td>0</td>\n",
       "      <td>1</td>\n",
       "      <td>1</td>\n",
       "      <td>1</td>\n",
       "      <td>5</td>\n",
       "    </tr>\n",
       "    <tr>\n",
       "      <th>1</th>\n",
       "      <td>0</td>\n",
       "      <td>10</td>\n",
       "      <td>1</td>\n",
       "      <td>5</td>\n",
       "      <td>20</td>\n",
       "      <td>2</td>\n",
       "      <td>16</td>\n",
       "      <td>25</td>\n",
       "      <td>1</td>\n",
       "      <td>2</td>\n",
       "      <td>...</td>\n",
       "      <td>0</td>\n",
       "      <td>3</td>\n",
       "      <td>1</td>\n",
       "      <td>1</td>\n",
       "      <td>0</td>\n",
       "      <td>0</td>\n",
       "      <td>1</td>\n",
       "      <td>1</td>\n",
       "      <td>1</td>\n",
       "      <td>5</td>\n",
       "    </tr>\n",
       "    <tr>\n",
       "      <th>2</th>\n",
       "      <td>0</td>\n",
       "      <td>1</td>\n",
       "      <td>1</td>\n",
       "      <td>5</td>\n",
       "      <td>20</td>\n",
       "      <td>1</td>\n",
       "      <td>51</td>\n",
       "      <td>41</td>\n",
       "      <td>1</td>\n",
       "      <td>2</td>\n",
       "      <td>...</td>\n",
       "      <td>0</td>\n",
       "      <td>3</td>\n",
       "      <td>1</td>\n",
       "      <td>1</td>\n",
       "      <td>0</td>\n",
       "      <td>0</td>\n",
       "      <td>1</td>\n",
       "      <td>1</td>\n",
       "      <td>1</td>\n",
       "      <td>5</td>\n",
       "    </tr>\n",
       "    <tr>\n",
       "      <th>3</th>\n",
       "      <td>0</td>\n",
       "      <td>7</td>\n",
       "      <td>1</td>\n",
       "      <td>5</td>\n",
       "      <td>20</td>\n",
       "      <td>4</td>\n",
       "      <td>25</td>\n",
       "      <td>15</td>\n",
       "      <td>1</td>\n",
       "      <td>5</td>\n",
       "      <td>...</td>\n",
       "      <td>0</td>\n",
       "      <td>3</td>\n",
       "      <td>1</td>\n",
       "      <td>1</td>\n",
       "      <td>0</td>\n",
       "      <td>0</td>\n",
       "      <td>1</td>\n",
       "      <td>1</td>\n",
       "      <td>1</td>\n",
       "      <td>5</td>\n",
       "    </tr>\n",
       "    <tr>\n",
       "      <th>4</th>\n",
       "      <td>0</td>\n",
       "      <td>0</td>\n",
       "      <td>0</td>\n",
       "      <td>5</td>\n",
       "      <td>20</td>\n",
       "      <td>0</td>\n",
       "      <td>16</td>\n",
       "      <td>0</td>\n",
       "      <td>0</td>\n",
       "      <td>0</td>\n",
       "      <td>...</td>\n",
       "      <td>0</td>\n",
       "      <td>3</td>\n",
       "      <td>1</td>\n",
       "      <td>1</td>\n",
       "      <td>0</td>\n",
       "      <td>0</td>\n",
       "      <td>1</td>\n",
       "      <td>1</td>\n",
       "      <td>1</td>\n",
       "      <td>5</td>\n",
       "    </tr>\n",
       "  </tbody>\n",
       "</table>\n",
       "<p>5 rows × 33 columns</p>\n",
       "</div>"
      ],
      "text/plain": [
       "   X0  X1  X2  X3  X4  X5  X6  X7  X8  X9  ...  X23  X24  X25  X26  X27  X28  \\\n",
       "0   0  14   1   5   0   3  28  18   1   5  ...    0    3    1    1    0    0   \n",
       "1   0  10   1   5  20   2  16  25   1   2  ...    0    3    1    1    0    0   \n",
       "2   0   1   1   5  20   1  51  41   1   2  ...    0    3    1    1    0    0   \n",
       "3   0   7   1   5  20   4  25  15   1   5  ...    0    3    1    1    0    0   \n",
       "4   0   0   0   5  20   0  16   0   0   0  ...    0    3    1    1    0    0   \n",
       "\n",
       "   X29  X30  X31  y  \n",
       "0    1    1    1  5  \n",
       "1    1    1    1  5  \n",
       "2    1    1    1  5  \n",
       "3    1    1    1  5  \n",
       "4    1    1    1  5  \n",
       "\n",
       "[5 rows x 33 columns]"
      ]
     },
     "execution_count": 36,
     "metadata": {},
     "output_type": "execute_result"
    }
   ],
   "source": [
    "dataset.head()"
   ]
  },
  {
   "cell_type": "markdown",
   "id": "enhanced-cruise",
   "metadata": {},
   "source": [
    "Create X and y arrays"
   ]
  },
  {
   "cell_type": "code",
   "execution_count": 37,
   "id": "explicit-married",
   "metadata": {},
   "outputs": [],
   "source": [
    "groups_df = dataset.sort_values(\"X5\").groupby(['X0'], as_index=False)\n",
    "\n",
    "num_features = 31\n",
    "max_length = 22\n",
    "ds = 27751\n",
    "X = np.zeros((ds, max_length, num_features))\n",
    "y = np.zeros((ds))\n",
    "\n",
    "for i, (name, group) in enumerate(groups_df):\n",
    "    X[i, :group.values.shape[0]] = group.values[:,1:-1]\n",
    "    y[i] = group.values[-1,-1]"
   ]
  },
  {
   "cell_type": "code",
   "execution_count": 38,
   "id": "hundred-lucas",
   "metadata": {},
   "outputs": [
    {
     "data": {
      "text/plain": [
       "Index(['Agent Call Back', 'Do Not Call', 'No Sale', 'Non Workable', 'Sale',\n",
       "       'Still Workable', 'System disposition', 'Transfer Call'],\n",
       "      dtype='object')"
      ]
     },
     "execution_count": 38,
     "metadata": {},
     "output_type": "execute_result"
    }
   ],
   "source": [
    "result['predict'].astype('category').cat.categories"
   ]
  },
  {
   "cell_type": "markdown",
   "id": "smart-innocent",
   "metadata": {},
   "source": [
    "### 3.3 Split"
   ]
  },
  {
   "cell_type": "markdown",
   "id": "distant-semester",
   "metadata": {},
   "source": [
    " Split the original dataset in training and testings datasets"
   ]
  },
  {
   "cell_type": "code",
   "execution_count": 39,
   "id": "blond-suspect",
   "metadata": {},
   "outputs": [],
   "source": [
    "X_train, X_test, y_train, y_test = train_test_split(X, y, random_state=1, stratify=y, shuffle=True, test_size=.2)"
   ]
  },
  {
   "cell_type": "code",
   "execution_count": 40,
   "id": "military-switch",
   "metadata": {},
   "outputs": [
    {
     "name": "stdout",
     "output_type": "stream",
     "text": [
      "Number of training records: 22200\n",
      "\n",
      "Training proportions:\n",
      "\n",
      "Agent Call Back :  0.01963963963963964\n",
      "Do Not Call :  0.007117117117117117\n",
      "No Sale :  0.3675675675675676\n",
      "Non Workable :  0.11945945945945946\n",
      "Sale :  0.03905405405405405\n",
      "Still Workable :  0.34954954954954953\n",
      "System disposition :  0.0061711711711711715\n",
      "Transfer Call :  0.09144144144144144\n"
     ]
    }
   ],
   "source": [
    "print('Number of training records:', len(X_train))\n",
    "\n",
    "cat = result['predict'].astype('category').cat.categories\n",
    "value_counts = np.bincount(y_train.astype('int64'))\n",
    "ii = np.nonzero(value_counts)[0]\n",
    "print('\\nTraining proportions:\\n')\n",
    "for i,v in zip(ii, value_counts[ii] / len(y_train)):\n",
    "    print(cat[i], \": \", v)"
   ]
  },
  {
   "cell_type": "markdown",
   "id": "painful-portfolio",
   "metadata": {},
   "source": [
    "### 3.4 Save"
   ]
  },
  {
   "cell_type": "code",
   "execution_count": 41,
   "id": "oriental-vacuum",
   "metadata": {},
   "outputs": [],
   "source": [
    "with open('../data/x_train.npy', 'wb') as f:\n",
    "    np.save(f, X_train)\n",
    "\n",
    "with open('../data/y_train.npy', 'wb') as f:\n",
    "    np.save(f, y_train)\n",
    "\n",
    "with open('../data/x_test.npy', 'wb') as f:\n",
    "    np.save(f, X_test)\n",
    "\n",
    "with open('../data/y_test.npy', 'wb') as f:\n",
    "    np.save(f, y_test)"
   ]
  }
 ],
 "metadata": {
  "kernelspec": {
   "display_name": "Python 3",
   "language": "python",
   "name": "python3"
  },
  "language_info": {
   "codemirror_mode": {
    "name": "ipython",
    "version": 3
   },
   "file_extension": ".py",
   "mimetype": "text/x-python",
   "name": "python",
   "nbconvert_exporter": "python",
   "pygments_lexer": "ipython3",
   "version": "3.8.5"
  }
 },
 "nbformat": 4,
 "nbformat_minor": 5
}
