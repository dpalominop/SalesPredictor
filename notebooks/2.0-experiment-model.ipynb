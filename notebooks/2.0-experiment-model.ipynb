{
 "cells": [
  {
   "cell_type": "markdown",
   "id": "disturbed-sense",
   "metadata": {},
   "source": [
    "# Experiment"
   ]
  },
  {
   "cell_type": "code",
   "execution_count": 1,
   "id": "substantial-width",
   "metadata": {},
   "outputs": [],
   "source": [
    "import numpy as np\n",
    "from keras.models import Sequential\n",
    "from keras.layers import Dense, LSTM, Dropout, TimeDistributed, Activation\n",
    "from keras.utils import to_categorical\n",
    "from keras.callbacks import ModelCheckpoint\n",
    "from sklearn.metrics import classification_report, confusion_matrix\n",
    "import matplotlib.pyplot as plt"
   ]
  },
  {
   "cell_type": "markdown",
   "id": "spectacular-import",
   "metadata": {},
   "source": [
    "## 1. Data"
   ]
  },
  {
   "cell_type": "markdown",
   "id": "written-travel",
   "metadata": {},
   "source": [
    "### 1.1 Load Data"
   ]
  },
  {
   "cell_type": "code",
   "execution_count": 2,
   "id": "qualified-austin",
   "metadata": {},
   "outputs": [],
   "source": [
    "with open('../data/x_train.npy', 'rb') as f:\n",
    "    X_train = np.load(f)\n",
    "\n",
    "with open('../data/y_train.npy', 'rb') as f:\n",
    "    y_train = np.load(f)\n",
    "\n",
    "with open('../data/x_test.npy', 'rb') as f:\n",
    "    X_test = np.load(f)\n",
    "\n",
    "with open('../data/y_test.npy', 'rb') as f:\n",
    "    y_test = np.load(f)"
   ]
  },
  {
   "cell_type": "markdown",
   "id": "viral-cement",
   "metadata": {},
   "source": [
    "### 1.2 Create Generators"
   ]
  },
  {
   "cell_type": "code",
   "execution_count": 3,
   "id": "incident-draft",
   "metadata": {},
   "outputs": [],
   "source": [
    "class KerasBatchGenerator(object):\n",
    "\n",
    "    def __init__(self, x_data, y_data, batch_size, num_steps, num_features, num_classes = 8):\n",
    "        self.x_data = x_data\n",
    "        self.y_data = y_data\n",
    "        self.batch_size = batch_size\n",
    "        self.num_steps = num_steps\n",
    "        self.num_features = num_features\n",
    "        self.num_classes = num_classes\n",
    "        # this will track the progress of the batches sequentially through the\n",
    "        # data set - once the data reaches the end of the data set it will reset\n",
    "        # back to zero\n",
    "        self.current_idx = 0\n",
    "        \n",
    "    def generate(self):\n",
    "        x = np.zeros((self.batch_size, self.num_steps, self.num_features))\n",
    "        y = np.zeros((self.batch_size, self.num_classes))\n",
    "        while True:\n",
    "            for i in range(self.batch_size):\n",
    "                if self.current_idx >= len(self.x_data):\n",
    "                    # reset the index back to the start of the data set\n",
    "                    self.current_idx = 0\n",
    "                x[i, :, :] = self.x_data[self.current_idx,:,:]\n",
    "                temp_y = self.y_data[self.current_idx]\n",
    "                # convert all of temp_y into a one hot representation\n",
    "                y[i, :] = to_categorical(temp_y, num_classes=self.num_classes)\n",
    "                self.current_idx += 1\n",
    "            yield x, y"
   ]
  },
  {
   "cell_type": "code",
   "execution_count": 4,
   "id": "incorporate-delight",
   "metadata": {},
   "outputs": [],
   "source": [
    "batch_size = 1024\n",
    "num_steps  = 22\n",
    "num_features = 31\n",
    "hidden_size = 64\n",
    "num_classes = 8\n",
    "\n",
    "train_data_generator = KerasBatchGenerator(X_train, y_train, batch_size, num_steps, num_features)\n",
    "valid_data_generator = KerasBatchGenerator(X_test, y_test, batch_size, num_steps, num_features)"
   ]
  },
  {
   "cell_type": "markdown",
   "id": "advance-suspension",
   "metadata": {},
   "source": [
    "## 2. Model"
   ]
  },
  {
   "cell_type": "markdown",
   "id": "alone-journey",
   "metadata": {},
   "source": [
    "### 2.1 Build"
   ]
  },
  {
   "cell_type": "code",
   "execution_count": 5,
   "id": "statewide-chick",
   "metadata": {},
   "outputs": [],
   "source": [
    "model = Sequential()\n",
    "model.add(LSTM(num_features, return_sequences=True, input_shape=(num_steps, num_features)))\n",
    "model.add(LSTM(hidden_size, return_sequences=True))\n",
    "model.add(LSTM(hidden_size))\n",
    "model.add(Dropout(0.5))\n",
    "model.add(Dense(num_classes))\n",
    "model.add(Activation('softmax'))"
   ]
  },
  {
   "cell_type": "code",
   "execution_count": 6,
   "id": "protected-device",
   "metadata": {},
   "outputs": [],
   "source": [
    "model.compile(loss='categorical_crossentropy', optimizer='adam', metrics=['categorical_accuracy'])"
   ]
  },
  {
   "cell_type": "code",
   "execution_count": 7,
   "id": "informed-pillow",
   "metadata": {},
   "outputs": [
    {
     "name": "stdout",
     "output_type": "stream",
     "text": [
      "Model: \"sequential\"\n",
      "_________________________________________________________________\n",
      "Layer (type)                 Output Shape              Param #   \n",
      "=================================================================\n",
      "lstm (LSTM)                  (None, 22, 31)            7812      \n",
      "_________________________________________________________________\n",
      "lstm_1 (LSTM)                (None, 22, 64)            24576     \n",
      "_________________________________________________________________\n",
      "lstm_2 (LSTM)                (None, 64)                33024     \n",
      "_________________________________________________________________\n",
      "dropout (Dropout)            (None, 64)                0         \n",
      "_________________________________________________________________\n",
      "dense (Dense)                (None, 8)                 520       \n",
      "_________________________________________________________________\n",
      "activation (Activation)      (None, 8)                 0         \n",
      "=================================================================\n",
      "Total params: 65,932\n",
      "Trainable params: 65,932\n",
      "Non-trainable params: 0\n",
      "_________________________________________________________________\n"
     ]
    }
   ],
   "source": [
    "model.summary()"
   ]
  },
  {
   "cell_type": "markdown",
   "id": "juvenile-beginning",
   "metadata": {},
   "source": [
    "### 2.2 Train"
   ]
  },
  {
   "cell_type": "code",
   "execution_count": 8,
   "id": "ethical-focus",
   "metadata": {},
   "outputs": [],
   "source": [
    "data_path = '../models'\n",
    "checkpointer = ModelCheckpoint(filepath=data_path + '/model-{epoch:02d}.hdf5', \n",
    "                               save_best_only=True, monitor='val_loss', mode='min', \n",
    "                               verbose=1)"
   ]
  },
  {
   "cell_type": "code",
   "execution_count": 19,
   "id": "obvious-louisiana",
   "metadata": {},
   "outputs": [
    {
     "name": "stdout",
     "output_type": "stream",
     "text": [
      "Epoch 1/80\n",
      "21/21 [==============================] - ETA: 0s - loss: 0.9670 - categorical_accuracy: 0.6747\n",
      "Epoch 00001: val_loss did not improve from 0.86492\n",
      "21/21 [==============================] - 5s 222ms/step - loss: 0.9670 - categorical_accuracy: 0.6747 - val_loss: 1.0195 - val_categorical_accuracy: 0.6479\n",
      "Epoch 2/80\n",
      "21/21 [==============================] - ETA: 0s - loss: 1.1709 - categorical_accuracy: 0.5924\n",
      "Epoch 00002: val_loss did not improve from 0.86492\n",
      "21/21 [==============================] - 5s 218ms/step - loss: 1.1709 - categorical_accuracy: 0.5924 - val_loss: 1.1123 - val_categorical_accuracy: 0.6158\n",
      "Epoch 3/80\n",
      "21/21 [==============================] - ETA: 0s - loss: 1.1006 - categorical_accuracy: 0.6238\n",
      "Epoch 00003: val_loss did not improve from 0.86492\n",
      "21/21 [==============================] - 5s 225ms/step - loss: 1.1006 - categorical_accuracy: 0.6238 - val_loss: 1.0794 - val_categorical_accuracy: 0.6250\n",
      "Epoch 4/80\n",
      "21/21 [==============================] - ETA: 0s - loss: 1.0611 - categorical_accuracy: 0.6348\n",
      "Epoch 00004: val_loss did not improve from 0.86492\n",
      "21/21 [==============================] - 5s 219ms/step - loss: 1.0611 - categorical_accuracy: 0.6348 - val_loss: 1.0388 - val_categorical_accuracy: 0.6359\n",
      "Epoch 5/80\n",
      "21/21 [==============================] - ETA: 0s - loss: 1.0122 - categorical_accuracy: 0.6490\n",
      "Epoch 00005: val_loss did not improve from 0.86492\n",
      "21/21 [==============================] - 5s 244ms/step - loss: 1.0122 - categorical_accuracy: 0.6490 - val_loss: 1.0069 - val_categorical_accuracy: 0.6518\n",
      "Epoch 6/80\n",
      "21/21 [==============================] - ETA: 0s - loss: 0.9613 - categorical_accuracy: 0.6749\n",
      "Epoch 00006: val_loss did not improve from 0.86492\n",
      "21/21 [==============================] - 5s 254ms/step - loss: 0.9613 - categorical_accuracy: 0.6749 - val_loss: 0.8710 - val_categorical_accuracy: 0.7229\n",
      "Epoch 7/80\n",
      "21/21 [==============================] - ETA: 0s - loss: 0.9467 - categorical_accuracy: 0.6831\n",
      "Epoch 00007: val_loss improved from 0.86492 to 0.84529, saving model to ../models\\model-07.hdf5\n",
      "21/21 [==============================] - 5s 227ms/step - loss: 0.9467 - categorical_accuracy: 0.6831 - val_loss: 0.8453 - val_categorical_accuracy: 0.7322\n",
      "Epoch 8/80\n",
      "21/21 [==============================] - ETA: 0s - loss: 1.0881 - categorical_accuracy: 0.6172\n",
      "Epoch 00008: val_loss did not improve from 0.84529\n",
      "21/21 [==============================] - 5s 242ms/step - loss: 1.0881 - categorical_accuracy: 0.6172 - val_loss: 1.0680 - val_categorical_accuracy: 0.6262\n",
      "Epoch 9/80\n",
      "21/21 [==============================] - ETA: 0s - loss: 1.0600 - categorical_accuracy: 0.6333\n",
      "Epoch 00009: val_loss did not improve from 0.84529\n",
      "21/21 [==============================] - 5s 239ms/step - loss: 1.0600 - categorical_accuracy: 0.6333 - val_loss: 1.0399 - val_categorical_accuracy: 0.6305\n",
      "Epoch 10/80\n",
      "21/21 [==============================] - ETA: 0s - loss: 1.0399 - categorical_accuracy: 0.6394\n",
      "Epoch 00010: val_loss did not improve from 0.84529\n",
      "21/21 [==============================] - 5s 233ms/step - loss: 1.0399 - categorical_accuracy: 0.6394 - val_loss: 1.0209 - val_categorical_accuracy: 0.6430\n",
      "Epoch 11/80\n",
      "21/21 [==============================] - ETA: 0s - loss: 0.9932 - categorical_accuracy: 0.6555\n",
      "Epoch 00011: val_loss did not improve from 0.84529\n",
      "21/21 [==============================] - 5s 228ms/step - loss: 0.9932 - categorical_accuracy: 0.6555 - val_loss: 0.9850 - val_categorical_accuracy: 0.6547\n",
      "Epoch 12/80\n",
      "21/21 [==============================] - ETA: 0s - loss: 0.9553 - categorical_accuracy: 0.6746\n",
      "Epoch 00012: val_loss did not improve from 0.84529\n",
      "21/21 [==============================] - 5s 239ms/step - loss: 0.9553 - categorical_accuracy: 0.6746 - val_loss: 0.9229 - val_categorical_accuracy: 0.6795\n",
      "Epoch 13/80\n",
      "21/21 [==============================] - ETA: 0s - loss: 0.9496 - categorical_accuracy: 0.6698\n",
      "Epoch 00013: val_loss did not improve from 0.84529\n",
      "21/21 [==============================] - 5s 228ms/step - loss: 0.9496 - categorical_accuracy: 0.6698 - val_loss: 0.9901 - val_categorical_accuracy: 0.6539\n",
      "Epoch 14/80\n",
      "21/21 [==============================] - ETA: 0s - loss: 0.9153 - categorical_accuracy: 0.6858\n",
      "Epoch 00014: val_loss did not improve from 0.84529\n",
      "21/21 [==============================] - 5s 228ms/step - loss: 0.9153 - categorical_accuracy: 0.6858 - val_loss: 0.9767 - val_categorical_accuracy: 0.6787\n",
      "Epoch 15/80\n",
      "21/21 [==============================] - ETA: 0s - loss: 0.8735 - categorical_accuracy: 0.7091\n",
      "Epoch 00015: val_loss improved from 0.84529 to 0.73572, saving model to ../models\\model-15.hdf5\n",
      "21/21 [==============================] - 5s 245ms/step - loss: 0.8735 - categorical_accuracy: 0.7091 - val_loss: 0.7357 - val_categorical_accuracy: 0.7549\n",
      "Epoch 16/80\n",
      "21/21 [==============================] - ETA: 0s - loss: 0.8759 - categorical_accuracy: 0.7055\n",
      "Epoch 00016: val_loss did not improve from 0.73572\n",
      "21/21 [==============================] - 5s 230ms/step - loss: 0.8759 - categorical_accuracy: 0.7055 - val_loss: 0.8287 - val_categorical_accuracy: 0.7045\n",
      "Epoch 17/80\n",
      "21/21 [==============================] - ETA: 0s - loss: 0.7312 - categorical_accuracy: 0.7546\n",
      "Epoch 00017: val_loss improved from 0.73572 to 0.66278, saving model to ../models\\model-17.hdf5\n",
      "21/21 [==============================] - 6s 266ms/step - loss: 0.7312 - categorical_accuracy: 0.7546 - val_loss: 0.6628 - val_categorical_accuracy: 0.7758\n",
      "Epoch 18/80\n",
      "21/21 [==============================] - ETA: 0s - loss: 0.9191 - categorical_accuracy: 0.6862\n",
      "Epoch 00018: val_loss did not improve from 0.66278\n",
      "21/21 [==============================] - 5s 228ms/step - loss: 0.9191 - categorical_accuracy: 0.6862 - val_loss: 0.9594 - val_categorical_accuracy: 0.6631\n",
      "Epoch 19/80\n",
      "21/21 [==============================] - ETA: 0s - loss: 0.9032 - categorical_accuracy: 0.6927\n",
      "Epoch 00019: val_loss did not improve from 0.66278\n",
      "21/21 [==============================] - 5s 219ms/step - loss: 0.9032 - categorical_accuracy: 0.6927 - val_loss: 0.7813 - val_categorical_accuracy: 0.7479\n",
      "Epoch 20/80\n",
      "21/21 [==============================] - ETA: 0s - loss: 1.0815 - categorical_accuracy: 0.6218\n",
      "Epoch 00020: val_loss did not improve from 0.66278\n",
      "21/21 [==============================] - 5s 219ms/step - loss: 1.0815 - categorical_accuracy: 0.6218 - val_loss: 1.1227 - val_categorical_accuracy: 0.6268\n",
      "Epoch 21/80\n",
      "21/21 [==============================] - ETA: 0s - loss: 1.0767 - categorical_accuracy: 0.6345\n",
      "Epoch 00021: val_loss did not improve from 0.66278\n",
      "21/21 [==============================] - 5s 223ms/step - loss: 1.0767 - categorical_accuracy: 0.6345 - val_loss: 1.0395 - val_categorical_accuracy: 0.6367\n",
      "Epoch 22/80\n",
      "21/21 [==============================] - ETA: 0s - loss: 1.0143 - categorical_accuracy: 0.6524\n",
      "Epoch 00022: val_loss did not improve from 0.66278\n",
      "21/21 [==============================] - 5s 230ms/step - loss: 1.0143 - categorical_accuracy: 0.6524 - val_loss: 0.9869 - val_categorical_accuracy: 0.6609\n",
      "Epoch 23/80\n",
      "21/21 [==============================] - ETA: 0s - loss: 0.9043 - categorical_accuracy: 0.6924\n",
      "Epoch 00023: val_loss did not improve from 0.66278\n",
      "21/21 [==============================] - 5s 237ms/step - loss: 0.9043 - categorical_accuracy: 0.6924 - val_loss: 0.8136 - val_categorical_accuracy: 0.7340\n",
      "Epoch 24/80\n",
      "21/21 [==============================] - ETA: 0s - loss: 1.0592 - categorical_accuracy: 0.6444\n",
      "Epoch 00024: val_loss did not improve from 0.66278\n",
      "21/21 [==============================] - 5s 229ms/step - loss: 1.0592 - categorical_accuracy: 0.6444 - val_loss: 1.1152 - val_categorical_accuracy: 0.6277\n",
      "Epoch 25/80\n",
      "21/21 [==============================] - ETA: 0s - loss: 1.0890 - categorical_accuracy: 0.6294 ETA: 2s - loss: 1.0969 - cate\n",
      "Epoch 00025: val_loss did not improve from 0.66278\n",
      "21/21 [==============================] - 5s 226ms/step - loss: 1.0890 - categorical_accuracy: 0.6294 - val_loss: 1.0609 - val_categorical_accuracy: 0.6330\n",
      "Epoch 26/80\n",
      "21/21 [==============================] - ETA: 0s - loss: 1.0600 - categorical_accuracy: 0.6337\n",
      "Epoch 00026: val_loss did not improve from 0.66278\n",
      "21/21 [==============================] - 5s 225ms/step - loss: 1.0600 - categorical_accuracy: 0.6337 - val_loss: 1.0451 - val_categorical_accuracy: 0.6354\n"
     ]
    },
    {
     "name": "stdout",
     "output_type": "stream",
     "text": [
      "Epoch 27/80\n",
      "21/21 [==============================] - ETA: 0s - loss: 1.0445 - categorical_accuracy: 0.6376\n",
      "Epoch 00027: val_loss did not improve from 0.66278\n",
      "21/21 [==============================] - 5s 230ms/step - loss: 1.0445 - categorical_accuracy: 0.6376 - val_loss: 1.0285 - val_categorical_accuracy: 0.6393\n",
      "Epoch 28/80\n",
      "21/21 [==============================] - ETA: 0s - loss: 1.0303 - categorical_accuracy: 0.6421\n",
      "Epoch 00028: val_loss did not improve from 0.66278\n",
      "21/21 [==============================] - 5s 231ms/step - loss: 1.0303 - categorical_accuracy: 0.6421 - val_loss: 1.0103 - val_categorical_accuracy: 0.6447\n",
      "Epoch 29/80\n",
      "21/21 [==============================] - ETA: 0s - loss: 1.0031 - categorical_accuracy: 0.6512\n",
      "Epoch 00029: val_loss did not improve from 0.66278\n",
      "21/21 [==============================] - 5s 248ms/step - loss: 1.0031 - categorical_accuracy: 0.6512 - val_loss: 0.9746 - val_categorical_accuracy: 0.6584\n",
      "Epoch 30/80\n",
      "21/21 [==============================] - ETA: 0s - loss: 0.9229 - categorical_accuracy: 0.6828\n",
      "Epoch 00030: val_loss did not improve from 0.66278\n",
      "21/21 [==============================] - 5s 227ms/step - loss: 0.9229 - categorical_accuracy: 0.6828 - val_loss: 0.8325 - val_categorical_accuracy: 0.7348\n",
      "Epoch 31/80\n",
      "21/21 [==============================] - ETA: 0s - loss: 0.7651 - categorical_accuracy: 0.7610\n",
      "Epoch 00031: val_loss did not improve from 0.66278\n",
      "21/21 [==============================] - 5s 232ms/step - loss: 0.7651 - categorical_accuracy: 0.7610 - val_loss: 0.7065 - val_categorical_accuracy: 0.7695\n",
      "Epoch 32/80\n",
      "21/21 [==============================] - ETA: 0s - loss: 1.0230 - categorical_accuracy: 0.6569\n",
      "Epoch 00032: val_loss did not improve from 0.66278\n",
      "21/21 [==============================] - 5s 226ms/step - loss: 1.0230 - categorical_accuracy: 0.6569 - val_loss: 1.2160 - val_categorical_accuracy: 0.5146\n",
      "Epoch 33/80\n",
      "21/21 [==============================] - ETA: 0s - loss: 1.1609 - categorical_accuracy: 0.5967\n",
      "Epoch 00033: val_loss did not improve from 0.66278\n",
      "21/21 [==============================] - 5s 233ms/step - loss: 1.1609 - categorical_accuracy: 0.5967 - val_loss: 1.0961 - val_categorical_accuracy: 0.6148\n",
      "Epoch 34/80\n",
      "21/21 [==============================] - ETA: 0s - loss: 1.0729 - categorical_accuracy: 0.6277\n",
      "Epoch 00034: val_loss did not improve from 0.66278\n",
      "21/21 [==============================] - 5s 228ms/step - loss: 1.0729 - categorical_accuracy: 0.6277 - val_loss: 1.0376 - val_categorical_accuracy: 0.6350\n",
      "Epoch 35/80\n",
      "21/21 [==============================] - ETA: 0s - loss: 1.0171 - categorical_accuracy: 0.6423\n",
      "Epoch 00035: val_loss did not improve from 0.66278\n",
      "21/21 [==============================] - 5s 228ms/step - loss: 1.0171 - categorical_accuracy: 0.6423 - val_loss: 0.9821 - val_categorical_accuracy: 0.6457\n",
      "Epoch 36/80\n",
      "21/21 [==============================] - ETA: 0s - loss: 0.9277 - categorical_accuracy: 0.6717\n",
      "Epoch 00036: val_loss did not improve from 0.66278\n",
      "21/21 [==============================] - 5s 226ms/step - loss: 0.9277 - categorical_accuracy: 0.6717 - val_loss: 0.8484 - val_categorical_accuracy: 0.6943\n",
      "Epoch 37/80\n",
      "21/21 [==============================] - ETA: 0s - loss: 0.9107 - categorical_accuracy: 0.6819\n",
      "Epoch 00037: val_loss did not improve from 0.66278\n",
      "21/21 [==============================] - 5s 227ms/step - loss: 0.9107 - categorical_accuracy: 0.6819 - val_loss: 1.0954 - val_categorical_accuracy: 0.5703\n",
      "Epoch 38/80\n",
      "21/21 [==============================] - ETA: 0s - loss: 1.0363 - categorical_accuracy: 0.6336\n",
      "Epoch 00038: val_loss did not improve from 0.66278\n",
      "21/21 [==============================] - 5s 223ms/step - loss: 1.0363 - categorical_accuracy: 0.6336 - val_loss: 1.0572 - val_categorical_accuracy: 0.6238\n",
      "Epoch 39/80\n",
      "21/21 [==============================] - ETA: 0s - loss: 0.9682 - categorical_accuracy: 0.6576\n",
      "Epoch 00039: val_loss did not improve from 0.66278\n",
      "21/21 [==============================] - 5s 233ms/step - loss: 0.9682 - categorical_accuracy: 0.6576 - val_loss: 0.8755 - val_categorical_accuracy: 0.6877\n",
      "Epoch 40/80\n",
      "21/21 [==============================] - ETA: 0s - loss: 0.8151 - categorical_accuracy: 0.7280\n",
      "Epoch 00040: val_loss did not improve from 0.66278\n",
      "21/21 [==============================] - 5s 234ms/step - loss: 0.8151 - categorical_accuracy: 0.7280 - val_loss: 0.7624 - val_categorical_accuracy: 0.7619\n",
      "Epoch 41/80\n",
      "21/21 [==============================] - ETA: 0s - loss: 0.7114 - categorical_accuracy: 0.7773\n",
      "Epoch 00041: val_loss improved from 0.66278 to 0.64614, saving model to ../models\\model-41.hdf5\n",
      "21/21 [==============================] - 5s 252ms/step - loss: 0.7114 - categorical_accuracy: 0.7773 - val_loss: 0.6461 - val_categorical_accuracy: 0.7889\n",
      "Epoch 42/80\n",
      "21/21 [==============================] - ETA: 0s - loss: 1.1756 - categorical_accuracy: 0.5700\n",
      "Epoch 00042: val_loss did not improve from 0.64614\n",
      "21/21 [==============================] - 5s 228ms/step - loss: 1.1756 - categorical_accuracy: 0.5700 - val_loss: 1.2020 - val_categorical_accuracy: 0.5951\n",
      "Epoch 43/80\n",
      "21/21 [==============================] - ETA: 0s - loss: 1.1452 - categorical_accuracy: 0.6070\n",
      "Epoch 00043: val_loss did not improve from 0.64614\n",
      "21/21 [==============================] - 5s 244ms/step - loss: 1.1452 - categorical_accuracy: 0.6070 - val_loss: 1.0972 - val_categorical_accuracy: 0.6180\n",
      "Epoch 44/80\n",
      "21/21 [==============================] - ETA: 0s - loss: 1.0946 - categorical_accuracy: 0.6210\n",
      "Epoch 00044: val_loss did not improve from 0.64614\n",
      "21/21 [==============================] - 5s 228ms/step - loss: 1.0946 - categorical_accuracy: 0.6210 - val_loss: 1.0757 - val_categorical_accuracy: 0.6238\n",
      "Epoch 45/80\n",
      "21/21 [==============================] - ETA: 0s - loss: 1.0817 - categorical_accuracy: 0.6243\n",
      "Epoch 00045: val_loss did not improve from 0.64614\n",
      "21/21 [==============================] - 5s 229ms/step - loss: 1.0817 - categorical_accuracy: 0.6243 - val_loss: 1.0755 - val_categorical_accuracy: 0.6275\n",
      "Epoch 46/80\n",
      "21/21 [==============================] - ETA: 0s - loss: 1.0739 - categorical_accuracy: 0.6251\n",
      "Epoch 00046: val_loss did not improve from 0.64614\n",
      "21/21 [==============================] - 5s 229ms/step - loss: 1.0739 - categorical_accuracy: 0.6251 - val_loss: 1.0618 - val_categorical_accuracy: 0.6275\n",
      "Epoch 47/80\n",
      "21/21 [==============================] - ETA: 0s - loss: 1.0630 - categorical_accuracy: 0.6300\n",
      "Epoch 00047: val_loss did not improve from 0.64614\n",
      "21/21 [==============================] - 5s 228ms/step - loss: 1.0630 - categorical_accuracy: 0.6300 - val_loss: 1.0453 - val_categorical_accuracy: 0.6303\n",
      "Epoch 48/80\n",
      "21/21 [==============================] - ETA: 0s - loss: 1.0505 - categorical_accuracy: 0.6337\n",
      "Epoch 00048: val_loss did not improve from 0.64614\n",
      "21/21 [==============================] - 5s 226ms/step - loss: 1.0505 - categorical_accuracy: 0.6337 - val_loss: 1.0440 - val_categorical_accuracy: 0.6289\n",
      "Epoch 49/80\n",
      "21/21 [==============================] - ETA: 0s - loss: 1.0383 - categorical_accuracy: 0.6361\n",
      "Epoch 00049: val_loss did not improve from 0.64614\n",
      "21/21 [==============================] - 5s 236ms/step - loss: 1.0383 - categorical_accuracy: 0.6361 - val_loss: 1.0140 - val_categorical_accuracy: 0.6523\n",
      "Epoch 50/80\n",
      "21/21 [==============================] - ETA: 0s - loss: 1.0025 - categorical_accuracy: 0.6539 ETA: 0s - loss: 1.0106 - categorical_accuracy\n",
      "Epoch 00050: val_loss did not improve from 0.64614\n",
      "21/21 [==============================] - 5s 232ms/step - loss: 1.0025 - categorical_accuracy: 0.6539 - val_loss: 1.0126 - val_categorical_accuracy: 0.6508\n",
      "Epoch 51/80\n",
      "21/21 [==============================] - ETA: 0s - loss: 0.9826 - categorical_accuracy: 0.6600\n",
      "Epoch 00051: val_loss did not improve from 0.64614\n",
      "21/21 [==============================] - 5s 229ms/step - loss: 0.9826 - categorical_accuracy: 0.6600 - val_loss: 0.8577 - val_categorical_accuracy: 0.7006\n",
      "Epoch 52/80\n",
      "21/21 [==============================] - ETA: 0s - loss: 1.0415 - categorical_accuracy: 0.6374\n",
      "Epoch 00052: val_loss did not improve from 0.64614\n",
      "21/21 [==============================] - 5s 242ms/step - loss: 1.0415 - categorical_accuracy: 0.6374 - val_loss: 1.0780 - val_categorical_accuracy: 0.6285\n"
     ]
    },
    {
     "name": "stdout",
     "output_type": "stream",
     "text": [
      "Epoch 53/80\n",
      "21/21 [==============================] - ETA: 0s - loss: 1.0660 - categorical_accuracy: 0.6322\n",
      "Epoch 00053: val_loss did not improve from 0.64614\n",
      "21/21 [==============================] - 5s 234ms/step - loss: 1.0660 - categorical_accuracy: 0.6322 - val_loss: 1.0413 - val_categorical_accuracy: 0.6348\n",
      "Epoch 54/80\n",
      "21/21 [==============================] - ETA: 0s - loss: 1.0341 - categorical_accuracy: 0.6374\n",
      "Epoch 00054: val_loss did not improve from 0.64614\n",
      "21/21 [==============================] - 5s 257ms/step - loss: 1.0341 - categorical_accuracy: 0.6374 - val_loss: 1.0203 - val_categorical_accuracy: 0.6391\n",
      "Epoch 55/80\n",
      "21/21 [==============================] - ETA: 0s - loss: 1.0178 - categorical_accuracy: 0.6430\n",
      "Epoch 00055: val_loss did not improve from 0.64614\n",
      "21/21 [==============================] - 5s 250ms/step - loss: 1.0178 - categorical_accuracy: 0.6430 - val_loss: 0.9896 - val_categorical_accuracy: 0.6502\n",
      "Epoch 56/80\n",
      "21/21 [==============================] - ETA: 0s - loss: 0.9488 - categorical_accuracy: 0.6649\n",
      "Epoch 00056: val_loss did not improve from 0.64614\n",
      "21/21 [==============================] - 5s 247ms/step - loss: 0.9488 - categorical_accuracy: 0.6649 - val_loss: 0.8044 - val_categorical_accuracy: 0.7086\n",
      "Epoch 57/80\n",
      "21/21 [==============================] - ETA: 0s - loss: 1.0432 - categorical_accuracy: 0.6339\n",
      "Epoch 00057: val_loss did not improve from 0.64614\n",
      "21/21 [==============================] - 5s 235ms/step - loss: 1.0432 - categorical_accuracy: 0.6339 - val_loss: 1.0427 - val_categorical_accuracy: 0.6320\n",
      "Epoch 58/80\n",
      "21/21 [==============================] - ETA: 0s - loss: 1.0161 - categorical_accuracy: 0.6435\n",
      "Epoch 00058: val_loss did not improve from 0.64614\n",
      "21/21 [==============================] - 5s 248ms/step - loss: 1.0161 - categorical_accuracy: 0.6435 - val_loss: 0.9993 - val_categorical_accuracy: 0.6430\n",
      "Epoch 59/80\n",
      "21/21 [==============================] - ETA: 0s - loss: 0.9779 - categorical_accuracy: 0.6567\n",
      "Epoch 00059: val_loss did not improve from 0.64614\n",
      "21/21 [==============================] - 4s 213ms/step - loss: 0.9779 - categorical_accuracy: 0.6567 - val_loss: 0.9601 - val_categorical_accuracy: 0.6744\n",
      "Epoch 60/80\n",
      "21/21 [==============================] - ETA: 0s - loss: 1.0018 - categorical_accuracy: 0.6516\n",
      "Epoch 00060: val_loss did not improve from 0.64614\n",
      "21/21 [==============================] - 4s 214ms/step - loss: 1.0018 - categorical_accuracy: 0.6516 - val_loss: 0.9496 - val_categorical_accuracy: 0.6615\n",
      "Epoch 61/80\n",
      "21/21 [==============================] - ETA: 0s - loss: 0.8253 - categorical_accuracy: 0.7145\n",
      "Epoch 00061: val_loss did not improve from 0.64614\n",
      "21/21 [==============================] - 5s 226ms/step - loss: 0.8253 - categorical_accuracy: 0.7145 - val_loss: 0.7717 - val_categorical_accuracy: 0.7635\n",
      "Epoch 62/80\n",
      "21/21 [==============================] - ETA: 0s - loss: 0.8382 - categorical_accuracy: 0.7169\n",
      "Epoch 00062: val_loss did not improve from 0.64614\n",
      "21/21 [==============================] - 5s 232ms/step - loss: 0.8382 - categorical_accuracy: 0.7169 - val_loss: 0.7056 - val_categorical_accuracy: 0.7758\n",
      "Epoch 63/80\n",
      "21/21 [==============================] - ETA: 0s - loss: 0.6973 - categorical_accuracy: 0.7825\n",
      "Epoch 00063: val_loss did not improve from 0.64614\n",
      "21/21 [==============================] - 5s 217ms/step - loss: 0.6973 - categorical_accuracy: 0.7825 - val_loss: 0.6731 - val_categorical_accuracy: 0.7838\n",
      "Epoch 64/80\n",
      "21/21 [==============================] - ETA: 0s - loss: 1.2017 - categorical_accuracy: 0.5512\n",
      "Epoch 00064: val_loss did not improve from 0.64614\n",
      "21/21 [==============================] - 5s 245ms/step - loss: 1.2017 - categorical_accuracy: 0.5512 - val_loss: 1.1345 - val_categorical_accuracy: 0.6189\n",
      "Epoch 65/80\n",
      "21/21 [==============================] - ETA: 0s - loss: 1.0915 - categorical_accuracy: 0.62 - ETA: 0s - loss: 1.0906 - categorical_accuracy: 0.6262\n",
      "Epoch 00065: val_loss did not improve from 0.64614\n",
      "21/21 [==============================] - 5s 223ms/step - loss: 1.0906 - categorical_accuracy: 0.6262 - val_loss: 1.0638 - val_categorical_accuracy: 0.6252\n",
      "Epoch 66/80\n",
      "21/21 [==============================] - ETA: 0s - loss: 1.0595 - categorical_accuracy: 0.6292\n",
      "Epoch 00066: val_loss did not improve from 0.64614\n",
      "21/21 [==============================] - 5s 218ms/step - loss: 1.0595 - categorical_accuracy: 0.6292 - val_loss: 1.0481 - val_categorical_accuracy: 0.6307\n",
      "Epoch 67/80\n",
      "21/21 [==============================] - ETA: 0s - loss: 1.0262 - categorical_accuracy: 0.6409\n",
      "Epoch 00067: val_loss did not improve from 0.64614\n",
      "21/21 [==============================] - 5s 217ms/step - loss: 1.0262 - categorical_accuracy: 0.6409 - val_loss: 0.9736 - val_categorical_accuracy: 0.6625\n",
      "Epoch 68/80\n",
      "21/21 [==============================] - ETA: 0s - loss: 1.0565 - categorical_accuracy: 0.6340\n",
      "Epoch 00068: val_loss did not improve from 0.64614\n",
      "21/21 [==============================] - 5s 230ms/step - loss: 1.0565 - categorical_accuracy: 0.6340 - val_loss: 1.0649 - val_categorical_accuracy: 0.6283\n",
      "Epoch 69/80\n",
      "21/21 [==============================] - ETA: 0s - loss: 1.0536 - categorical_accuracy: 0.6344\n",
      "Epoch 00069: val_loss did not improve from 0.64614\n",
      "21/21 [==============================] - 5s 226ms/step - loss: 1.0536 - categorical_accuracy: 0.6344 - val_loss: 1.0548 - val_categorical_accuracy: 0.6295\n",
      "Epoch 70/80\n",
      "21/21 [==============================] - ETA: 0s - loss: 1.0471 - categorical_accuracy: 0.6350\n",
      "Epoch 00070: val_loss did not improve from 0.64614\n",
      "21/21 [==============================] - 5s 231ms/step - loss: 1.0471 - categorical_accuracy: 0.6350 - val_loss: 1.0535 - val_categorical_accuracy: 0.6307\n",
      "Epoch 71/80\n",
      "21/21 [==============================] - ETA: 0s - loss: 1.0590 - categorical_accuracy: 0.6297\n",
      "Epoch 00071: val_loss did not improve from 0.64614\n",
      "21/21 [==============================] - 5s 239ms/step - loss: 1.0590 - categorical_accuracy: 0.6297 - val_loss: 1.0550 - val_categorical_accuracy: 0.6279\n",
      "Epoch 72/80\n",
      "21/21 [==============================] - ETA: 0s - loss: 1.0455 - categorical_accuracy: 0.6360\n",
      "Epoch 00072: val_loss did not improve from 0.64614\n",
      "21/21 [==============================] - 5s 225ms/step - loss: 1.0455 - categorical_accuracy: 0.6360 - val_loss: 1.0436 - val_categorical_accuracy: 0.6371\n",
      "Epoch 73/80\n",
      "21/21 [==============================] - ETA: 0s - loss: 1.0375 - categorical_accuracy: 0.6402\n",
      "Epoch 00073: val_loss did not improve from 0.64614\n",
      "21/21 [==============================] - 5s 215ms/step - loss: 1.0375 - categorical_accuracy: 0.6402 - val_loss: 1.0363 - val_categorical_accuracy: 0.6371\n",
      "Epoch 74/80\n",
      "21/21 [==============================] - ETA: 0s - loss: 1.0308 - categorical_accuracy: 0.6430\n",
      "Epoch 00074: val_loss did not improve from 0.64614\n",
      "21/21 [==============================] - 4s 214ms/step - loss: 1.0308 - categorical_accuracy: 0.6430 - val_loss: 1.0371 - val_categorical_accuracy: 0.6389\n",
      "Epoch 75/80\n",
      "21/21 [==============================] - ETA: 0s - loss: 1.0319 - categorical_accuracy: 0.6416\n",
      "Epoch 00075: val_loss did not improve from 0.64614\n",
      "21/21 [==============================] - 5s 222ms/step - loss: 1.0319 - categorical_accuracy: 0.6416 - val_loss: 1.0206 - val_categorical_accuracy: 0.6396\n",
      "Epoch 76/80\n",
      "21/21 [==============================] - ETA: 0s - loss: 1.0231 - categorical_accuracy: 0.6454\n",
      "Epoch 00076: val_loss did not improve from 0.64614\n",
      "21/21 [==============================] - 5s 242ms/step - loss: 1.0231 - categorical_accuracy: 0.6454 - val_loss: 1.0483 - val_categorical_accuracy: 0.6314\n",
      "Epoch 77/80\n",
      "21/21 [==============================] - ETA: 0s - loss: 1.0201 - categorical_accuracy: 0.6454\n",
      "Epoch 00077: val_loss did not improve from 0.64614\n",
      "21/21 [==============================] - 5s 223ms/step - loss: 1.0201 - categorical_accuracy: 0.6454 - val_loss: 1.0312 - val_categorical_accuracy: 0.6418\n",
      "Epoch 78/80\n",
      "21/21 [==============================] - ETA: 0s - loss: 1.0076 - categorical_accuracy: 0.6530\n",
      "Epoch 00078: val_loss did not improve from 0.64614\n",
      "21/21 [==============================] - 5s 226ms/step - loss: 1.0076 - categorical_accuracy: 0.6530 - val_loss: 1.0073 - val_categorical_accuracy: 0.6516\n",
      "Epoch 79/80\n"
     ]
    },
    {
     "name": "stdout",
     "output_type": "stream",
     "text": [
      "21/21 [==============================] - ETA: 0s - loss: 1.0186 - categorical_accuracy: 0.6469\n",
      "Epoch 00079: val_loss did not improve from 0.64614\n",
      "21/21 [==============================] - 5s 225ms/step - loss: 1.0186 - categorical_accuracy: 0.6469 - val_loss: 1.0215 - val_categorical_accuracy: 0.6393\n",
      "Epoch 80/80\n",
      "21/21 [==============================] - ETA: 0s - loss: 0.9941 - categorical_accuracy: 0.6586\n",
      "Epoch 00080: val_loss did not improve from 0.64614\n",
      "21/21 [==============================] - 5s 224ms/step - loss: 0.9941 - categorical_accuracy: 0.6586 - val_loss: 0.9751 - val_categorical_accuracy: 0.6676\n"
     ]
    }
   ],
   "source": [
    "num_epochs = 80\n",
    "history = model.fit_generator(train_data_generator.generate(), len(X_train)//(batch_size), num_epochs,\n",
    "                        validation_data=valid_data_generator.generate(),\n",
    "                        validation_steps=len(X_test)//(batch_size), callbacks=[checkpointer])"
   ]
  },
  {
   "cell_type": "markdown",
   "id": "earlier-married",
   "metadata": {},
   "source": [
    "### 2.3 Results"
   ]
  },
  {
   "cell_type": "code",
   "execution_count": 20,
   "id": "imported-cocktail",
   "metadata": {},
   "outputs": [
    {
     "data": {
      "image/png": "[encoded data removed]",
      "text/plain": [
       "<Figure size 432x288 with 1 Axes>"
      ]
     },
     "metadata": {
      "needs_background": "light"
     },
     "output_type": "display_data"
    }
   ],
   "source": [
    "# summarize history for accuracy\n",
    "plt.plot(history.history['categorical_accuracy'])\n",
    "plt.plot(history.history['val_categorical_accuracy'])\n",
    "plt.title('model accuracy')\n",
    "plt.ylabel('accuracy')\n",
    "plt.xlabel('epoch')\n",
    "plt.legend(['train', 'test'], loc='upper left')\n",
    "plt.show()"
   ]
  },
  {
   "cell_type": "code",
   "execution_count": 21,
   "id": "center-manhattan",
   "metadata": {},
   "outputs": [
    {
     "data": {
      "image/png": "[encoded data removed]",
      "text/plain": [
       "<Figure size 432x288 with 1 Axes>"
      ]
     },
     "metadata": {
      "needs_background": "light"
     },
     "output_type": "display_data"
    }
   ],
   "source": [
    "# summarize history for loss\n",
    "plt.plot(history.history['loss'])\n",
    "plt.plot(history.history['val_loss'])\n",
    "plt.title('model loss')\n",
    "plt.ylabel('loss')\n",
    "plt.xlabel('epoch')\n",
    "plt.legend(['train', 'test'], loc='upper left')\n",
    "plt.show()"
   ]
  },
  {
   "cell_type": "markdown",
   "id": "adult-vaccine",
   "metadata": {},
   "source": [
    "## 3. Interpretation"
   ]
  },
  {
   "cell_type": "code",
   "execution_count": 23,
   "id": "lucky-authority",
   "metadata": {},
   "outputs": [
    {
     "name": "stdout",
     "output_type": "stream",
     "text": [
      "Classification Report\n",
      "                    precision    recall  f1-score   support\n",
      "\n",
      "   Agent Call Back       0.00      0.00      0.00       109\n",
      "       Do Not Call       0.00      0.00      0.00        40\n",
      "           No Sale       0.74      0.98      0.84      2040\n",
      "      Non Workable       0.76      0.64      0.70       663\n",
      "              Sale       0.87      0.37      0.52       217\n",
      "    Still Workable       0.85      0.96      0.90      1940\n",
      "System disposition       0.00      0.00      0.00        34\n",
      "     Transfer Call       0.00      0.00      0.00       508\n",
      "\n",
      "          accuracy                           0.79      5551\n",
      "         macro avg       0.40      0.37      0.37      5551\n",
      "      weighted avg       0.69      0.79      0.73      5551\n",
      "\n"
     ]
    }
   ],
   "source": [
    "#Classification Report\n",
    "model.load_weights(data_path + '/model-41.hdf5')\n",
    "y_pred = model.predict_classes(X_test)\n",
    "print('Classification Report')\n",
    "target_names = ['Agent Call Back', 'Do Not Call', 'No Sale', 'Non Workable', \n",
    "                'Sale', 'Still Workable', 'System disposition', 'Transfer Call']\n",
    "print(classification_report(y_test, y_pred, target_names=target_names))"
   ]
  },
  {
   "cell_type": "code",
   "execution_count": null,
   "id": "iraqi-burlington",
   "metadata": {},
   "outputs": [],
   "source": []
  }
 ],
 "metadata": {
  "kernelspec": {
   "display_name": "Python 3",
   "language": "python",
   "name": "python3"
  },
  "language_info": {
   "codemirror_mode": {
    "name": "ipython",
    "version": 3
   },
   "file_extension": ".py",
   "mimetype": "text/x-python",
   "name": "python",
   "nbconvert_exporter": "python",
   "pygments_lexer": "ipython3",
   "version": "3.8.5"
  }
 },
 "nbformat": 4,
 "nbformat_minor": 5
}
